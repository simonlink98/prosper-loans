{
 "cells": [
  {
   "cell_type": "markdown",
   "metadata": {},
   "source": [
    "# <span style=\"color:green\">Prosper Modelling</span>\n",
    "\n",
    "<a id=\"the_top\"><a> "
   ]
  },
  {
   "cell_type": "markdown",
   "metadata": {},
   "source": [
    "# Index\n",
    "\n",
    "1. [Preparation](#Preparation)\n",
    "    * [Loading the Data Set](#load_ds)\n",
    "    * [Research Question](#r_q)\n",
    "\n",
    "\n",
    "2. [Processing](#process)\n",
    "    * [Feature Extraction](#f_ex)\n",
    "    * [Feature Engeneering](#f_eng)\n",
    "    \n",
    "        \n",
    "3. [Dimensionality Reduction](#dim_red)\n",
    "    * [PCA](#PCA)\n",
    "    * [Truncated SVD](#trunc_svd)\n",
    "\n",
    "\n",
    "4. [Modelling](#model)\n",
    "    * [First Models](#f_models)\n",
    "        * [Plain Vanilla Basic Models](#pv_models)\n",
    "        * [PCA Models](#PCA_models)\n",
    "        * [SVD Models](#svd_models)\n",
    "        * [Evaluation of Dimensionality Reduction](#eval_dim_red)\n",
    "    * [GridSearchCV for Hyperparameter-Tuning](#gscv)\n",
    "        * [Logistic Regression](#logreg)\n",
    "        * [KNN](#knn)\n",
    "        * [Ridge Classifier](#rg_c)\n",
    "        * [Decision Tree Classifier](#dt_c)\n",
    "        * [Support Vector Classifier](#svc)\n",
    "        * [Models Performance Comparison](#model_perf_comparison)\n",
    "    * [Advanced Algorithms](#adv_algo)\n",
    "        * [Random Forest](#rf)\n",
    "        * [Boosting](#boost)\n",
    "            * [AdaBoost Classifier](#adaboost_c)\n",
    "            * [GradientBoosting Classifier](#gboost_c)\n",
    "        * [Stacking](#stack)\n",
    "    * [Neural Networks](#neural_n)\n",
    "\n",
    "\n",
    "5. [Building the full pipeline](#pipeline)\n",
    "    * [Logistic Regression with Tuned Hyperparameters](#logreg_th)\n",
    "    * [Ridge Classifier with Tuned Hyperparameters](#rc_th)\n",
    "    * [KNN with Tuned Hyperparameters](#knn_th)\n",
    "    * [Decision Tree with Tuned Hyperparameters](#dt_th)\n",
    "    * [SVC with Tuned Hyperparameters](#svc_th)\n",
    "\n",
    "\n",
    "6. [Model Evaluation](#model_eval)"
   ]
  },
  {
   "cell_type": "markdown",
   "metadata": {},
   "source": [
    "<a id=\"Preparation\"><a> \n",
    "# 1. Preparation"
   ]
  },
  {
   "cell_type": "code",
   "execution_count": 1,
   "metadata": {},
   "outputs": [],
   "source": [
    "# Imports\n",
    "import pandas as pd\n",
    "import numpy as np\n",
    "import matplotlib.pyplot as plt\n",
    "import seaborn as sns"
   ]
  },
  {
   "cell_type": "markdown",
   "metadata": {},
   "source": [
    "<a id=\"load_ds\"><a>\n",
    "## 1.1 Loading the Data Set"
   ]
  },
  {
   "cell_type": "code",
   "execution_count": 14,
   "metadata": {},
   "outputs": [],
   "source": [
    "df_model = pd.read_csv(\"EDA.csv\")"
   ]
  },
  {
   "cell_type": "code",
   "execution_count": 15,
   "metadata": {},
   "outputs": [
    {
     "data": {
      "text/plain": [
       "1    38074\n",
       "0    19287\n",
       "Name: LoanStatus, dtype: int64"
      ]
     },
     "execution_count": 15,
     "metadata": {},
     "output_type": "execute_result"
    }
   ],
   "source": [
    "df_model['LoanStatus'].value_counts()"
   ]
  },
  {
   "cell_type": "code",
   "execution_count": 16,
   "metadata": {},
   "outputs": [
    {
     "name": "stdout",
     "output_type": "stream",
     "text": [
      "<class 'pandas.core.frame.DataFrame'>\n",
      "RangeIndex: 57361 entries, 0 to 57360\n",
      "Data columns (total 52 columns):\n",
      " #   Column                               Non-Null Count  Dtype  \n",
      "---  ------                               --------------  -----  \n",
      " 0   Term                                 57361 non-null  int64  \n",
      " 1   LoanStatus                           57361 non-null  int64  \n",
      " 2   BorrowerAPR                          57361 non-null  float64\n",
      " 3   BorrowerRate                         57361 non-null  float64\n",
      " 4   LenderYield                          57361 non-null  float64\n",
      " 5   EstimatedEffectiveYield              57361 non-null  float64\n",
      " 6   EstimatedLoss                        57361 non-null  float64\n",
      " 7   ProsperScore                         57361 non-null  float64\n",
      " 8   ListingCategory                      57361 non-null  object \n",
      " 9   BorrowerState                        57361 non-null  object \n",
      " 10  Occupation                           57361 non-null  object \n",
      " 11  EmploymentStatus                     57361 non-null  object \n",
      " 12  EmploymentStatusDuration             57361 non-null  float64\n",
      " 13  IsBorrowerHomeowner                  57361 non-null  int64  \n",
      " 14  CurrentlyInGroup                     57361 non-null  int64  \n",
      " 15  CreditScore                          57361 non-null  float64\n",
      " 16  CurrentCreditLines                   57361 non-null  float64\n",
      " 17  OpenCreditLines                      57361 non-null  float64\n",
      " 18  TotalCreditLinespast7years           57361 non-null  float64\n",
      " 19  OpenRevolvingAccounts                57361 non-null  int64  \n",
      " 20  OpenRevolvingMonthlyPayment          57361 non-null  float64\n",
      " 21  InquiriesLast6Months                 57361 non-null  float64\n",
      " 22  TotalInquiries                       57361 non-null  float64\n",
      " 23  CurrentDelinquencies                 57361 non-null  float64\n",
      " 24  AmountDelinquent                     57361 non-null  float64\n",
      " 25  DelinquenciesLast7Years              57361 non-null  float64\n",
      " 26  PublicRecordsLast10Years             57361 non-null  float64\n",
      " 27  PublicRecordsLast12Months            57361 non-null  float64\n",
      " 28  RevolvingCreditBalance               57361 non-null  float64\n",
      " 29  BankcardUtilization                  57361 non-null  float64\n",
      " 30  AvailableBankcardCredit              57361 non-null  float64\n",
      " 31  TotalTrades                          57361 non-null  float64\n",
      " 32  TradesNeverDelinquent (percentage)   57361 non-null  float64\n",
      " 33  TradesOpenedLast6Months              57361 non-null  float64\n",
      " 34  DebtToIncomeRatio                    57361 non-null  float64\n",
      " 35  IncomeRange                          57361 non-null  object \n",
      " 36  IncomeVerifiable                     57361 non-null  int64  \n",
      " 37  StatedMonthlyIncome                  57361 non-null  float64\n",
      " 38  TotalProsperLoans                    57361 non-null  float64\n",
      " 39  TotalProsperPaymentsBilled           57361 non-null  float64\n",
      " 40  OnTimeProsperPayments                57361 non-null  float64\n",
      " 41  ProsperPaymentsLessThanOneMonthLate  57361 non-null  float64\n",
      " 42  ProsperPaymentsOneMonthPlusLate      57361 non-null  float64\n",
      " 43  ProsperPrincipalBorrowed             57361 non-null  float64\n",
      " 44  ProsperPrincipalOutstanding          57361 non-null  float64\n",
      " 45  LoanOriginalAmount                   57361 non-null  int64  \n",
      " 46  MonthlyLoanPayment                   57361 non-null  float64\n",
      " 47  PercentFunded                        57361 non-null  float64\n",
      " 48  Recommendations                      57361 non-null  int64  \n",
      " 49  InvestmentFromFriendsCount           57361 non-null  int64  \n",
      " 50  InvestmentFromFriendsAmount          57361 non-null  float64\n",
      " 51  Investors                            57361 non-null  int64  \n",
      "dtypes: float64(37), int64(10), object(5)\n",
      "memory usage: 22.8+ MB\n"
     ]
    }
   ],
   "source": [
    "df_model.info()"
   ]
  },
  {
   "cell_type": "markdown",
   "metadata": {},
   "source": [
    "<a id=\"r_q\"><a>\n",
    "## 1.2 Research Question"
   ]
  },
  {
   "cell_type": "markdown",
   "metadata": {},
   "source": [
    "Prosper recieves Loan requests constantly. These loans if granted will be then offered to Prosper's platform \"investors\" for them to be able to fund. Therefore it is of Prosper's best interest to scrutinize and filter the loans that they offer to their investors so that they have the smallest probability of defaulting possible, since this would have major impacts on Proper's reputation. With that being said we want to see if by *Learning the patterns in the data, can we predict, which borrowers will default?*"
   ]
  },
  {
   "cell_type": "markdown",
   "metadata": {},
   "source": [
    "<a id=\"process\"><a>\n",
    "# 2. Processing"
   ]
  },
  {
   "cell_type": "markdown",
   "metadata": {},
   "source": [
    "We will now perform a preliminary processing of the data in order to prepare it for the primary processing and for further analysis."
   ]
  },
  {
   "cell_type": "markdown",
   "metadata": {},
   "source": [
    "<a id=\"f_ex\"><a>\n",
    "## 2.1 Feature Extraction"
   ]
  },
  {
   "cell_type": "code",
   "execution_count": 17,
   "metadata": {},
   "outputs": [],
   "source": [
    "X = df_model.drop(['LoanStatus'], axis=1)\n",
    "y = df_model['LoanStatus']"
   ]
  },
  {
   "cell_type": "code",
   "execution_count": 18,
   "metadata": {},
   "outputs": [
    {
     "data": {
      "text/plain": [
       "(57361, 51)"
      ]
     },
     "execution_count": 18,
     "metadata": {},
     "output_type": "execute_result"
    }
   ],
   "source": [
    "X.shape"
   ]
  },
  {
   "cell_type": "code",
   "execution_count": 19,
   "metadata": {},
   "outputs": [
    {
     "data": {
      "text/plain": [
       "(57361,)"
      ]
     },
     "execution_count": 19,
     "metadata": {},
     "output_type": "execute_result"
    }
   ],
   "source": [
    "y.shape"
   ]
  },
  {
   "cell_type": "markdown",
   "metadata": {},
   "source": [
    "<a id=\"f_eng\"><a>\n",
    "## 2.2 Feature Engineering"
   ]
  },
  {
   "cell_type": "markdown",
   "metadata": {},
   "source": [
    "We will use some domain knowledge to extract features (characteristics, properties, attributes) from the data"
   ]
  },
  {
   "cell_type": "markdown",
   "metadata": {},
   "source": [
    "### Extract Info on which variables are numerical, categorical or boolean"
   ]
  },
  {
   "cell_type": "code",
   "execution_count": 26,
   "metadata": {},
   "outputs": [],
   "source": [
    "from sklearn.preprocessing import StandardScaler\n",
    "from sklearn.preprocessing import OneHotEncoder\n",
    "from sklearn.pipeline import Pipeline\n",
    "from sklearn.compose import ColumnTransformer\n",
    "from sklearn.compose import make_column_selector as selector\n",
    "from sklearn.model_selection import train_test_split"
   ]
  },
  {
   "cell_type": "code",
   "execution_count": 27,
   "metadata": {},
   "outputs": [],
   "source": [
    "preprocessor = ColumnTransformer(transformers=[\n",
    "    ('num', StandardScaler(), selector(dtype_exclude=\"object\")),\n",
    "    ('cat', OneHotEncoder(sparse=False,handle_unknown = \"ignore\"), selector(dtype_include=\"object\"))\n",
    "])"
   ]
  },
  {
   "cell_type": "markdown",
   "metadata": {},
   "source": [
    "After trying out, we evaluated the StandardScaler to show better results than the MinMaxScaler, for numerical features.\n",
    "So, for numerical features, we use a StandardScaler preprocessor, and for categorical features, OneHot Encoding."
   ]
  },
  {
   "cell_type": "code",
   "execution_count": 10,
   "metadata": {},
   "outputs": [],
   "source": [
    "X = preprocessor.fit_transform(X)"
   ]
  },
  {
   "cell_type": "code",
   "execution_count": 11,
   "metadata": {},
   "outputs": [],
   "source": [
    "X_train, X_test, y_train, y_test = train_test_split(X, y, test_size=0.2, random_state=42)"
   ]
  },
  {
   "cell_type": "markdown",
   "metadata": {},
   "source": [
    "<a id=\"dim_red\"><a>\n",
    "# 3. Dimensionality Reduction"
   ]
  },
  {
   "cell_type": "markdown",
   "metadata": {},
   "source": [
    "We will perform dimensionality reduction, or dimension reduction, transforming the data from a high-dimensional space (over 50 variables) into a lower-dimensional space so that the lower-dimensional representation retains some meaningful properties of the original data, ideally close to its intrinsic dimension."
   ]
  },
  {
   "cell_type": "markdown",
   "metadata": {},
   "source": [
    "<a id=\"PCA\"><a>\n",
    "## 3.1 PCA"
   ]
  },
  {
   "cell_type": "markdown",
   "metadata": {},
   "source": [
    "We will compute the principal components and use them to perform a change of basis on the data, using in this case 31 components."
   ]
  },
  {
   "cell_type": "code",
   "execution_count": 12,
   "metadata": {},
   "outputs": [],
   "source": [
    "from sklearn.decomposition import PCA"
   ]
  },
  {
   "cell_type": "markdown",
   "metadata": {},
   "source": [
    "### Threshold"
   ]
  },
  {
   "cell_type": "code",
   "execution_count": 13,
   "metadata": {},
   "outputs": [],
   "source": [
    "pca = PCA()\n",
    "pca.fit_transform(X)\n",
    "cumsum = np.cumsum(pca.explained_variance_ratio_)\n",
    "d = np.argmax(cumsum >= 0.9) + 1"
   ]
  },
  {
   "cell_type": "code",
   "execution_count": 14,
   "metadata": {},
   "outputs": [
    {
     "name": "stdout",
     "output_type": "stream",
     "text": [
      "Optimal n_components following the ellbow method: 31\n"
     ]
    }
   ],
   "source": [
    "print(f'Optimal n_components following the ellbow method: {d}')"
   ]
  },
  {
   "cell_type": "markdown",
   "metadata": {},
   "source": [
    "### PCA with 31 components"
   ]
  },
  {
   "cell_type": "code",
   "execution_count": 15,
   "metadata": {},
   "outputs": [
    {
     "data": {
      "text/plain": [
       "(57361, 31)"
      ]
     },
     "execution_count": 15,
     "metadata": {},
     "output_type": "execute_result"
    }
   ],
   "source": [
    "pca = PCA(n_components=d)\n",
    "X_PCA = pca.fit_transform(X)\n",
    "\n",
    "X_PCA.shape"
   ]
  },
  {
   "cell_type": "code",
   "execution_count": 16,
   "metadata": {},
   "outputs": [],
   "source": [
    "X_train_pca, X_test_pca, y_train_pca, y_test_pca = train_test_split(X_PCA, y, test_size=0.2, random_state=42)"
   ]
  },
  {
   "cell_type": "markdown",
   "metadata": {},
   "source": [
    "<a id=\"trunc_svd\"><a>\n",
    "## 3.2 Truncated SVD"
   ]
  },
  {
   "cell_type": "code",
   "execution_count": 17,
   "metadata": {},
   "outputs": [],
   "source": [
    "from sklearn.preprocessing import StandardScaler\n",
    "from sklearn.decomposition import TruncatedSVD\n",
    "from scipy.sparse import csr_matrix\n",
    "from sklearn import datasets\n",
    "\n",
    "# Make sparse matrix\n",
    "X_sparse = csr_matrix(X)\n",
    "\n",
    "X_sparse.shape[1]-1\n",
    "\n",
    "# Create and run an TSVD with one less than number of features\n",
    "tsvd = TruncatedSVD(n_components=X_sparse.shape[1]-1)\n",
    "X_tsvd = tsvd.fit(X)\n",
    "\n",
    "# List of explained variances\n",
    "tsvd_var_ratios = tsvd.explained_variance_ratio_\n",
    "\n",
    "# Create a function\n",
    "def select_n_components(var_ratio, goal_var: float) -> int:\n",
    "    # Set initial variance explained so far\n",
    "    total_variance = 0.0\n",
    "    \n",
    "    # Set initial number of features\n",
    "    n_components = 0\n",
    "    \n",
    "    # For the explained variance of each feature:\n",
    "    for explained_variance in var_ratio:\n",
    "        \n",
    "        # Add the explained variance to the total\n",
    "        total_variance += explained_variance\n",
    "        \n",
    "        # Add one to the number of components\n",
    "        n_components += 1\n",
    "        \n",
    "        # If we reach our goal level of explained variance\n",
    "        if total_variance >= goal_var:\n",
    "            # End the loop\n",
    "            break\n",
    "            \n",
    "    # Return the number of components\n",
    "    return n_components\n",
    "\n",
    "# Run function\n",
    "n_components_svd = select_n_components(tsvd_var_ratios, 0.95)"
   ]
  },
  {
   "cell_type": "code",
   "execution_count": 18,
   "metadata": {},
   "outputs": [
    {
     "name": "stdout",
     "output_type": "stream",
     "text": [
      "Optimal Number of Components: 40\n"
     ]
    }
   ],
   "source": [
    "print(f'Optimal Number of Components: {n_components_svd}')"
   ]
  },
  {
   "cell_type": "code",
   "execution_count": 19,
   "metadata": {},
   "outputs": [],
   "source": [
    "svd = TruncatedSVD(n_components_svd)\n",
    "X_SVD = svd.fit_transform(X)"
   ]
  },
  {
   "cell_type": "code",
   "execution_count": 20,
   "metadata": {},
   "outputs": [],
   "source": [
    "X_train_svd, X_test_svd, y_train_svd, y_test_svd = train_test_split(X_SVD, y, test_size=0.2, random_state=42)"
   ]
  },
  {
   "cell_type": "markdown",
   "metadata": {},
   "source": [
    "<a id=\"model\"><a>\n",
    "# 4. Modelling"
   ]
  },
  {
   "cell_type": "markdown",
   "metadata": {},
   "source": [
    "Now it's time to get our hands dirty with modelling!\n",
    "\n",
    "That's the perfect moment to get back to our initial research question and to recall what we actually want to predict. While it is true, that we want to predict as accurately as possible, which credits will default and which won't, what actually is most important to us, is which credits will actually default.\n",
    "As a consequence, we might want to maximize the percentage of correctly classified loans as default, even if this means classifying some loans as defaulted mistakenly. Thus, our approach to some extend is kind of conservative, but makes sure we maximize our target function and our utility of the model in our business application.\n",
    "\n",
    "All in all, this means, we want to maximize the recall for default classification even at the expense of precision. Thus, **recall** will be the **most relevant metric** for our specific research question."
   ]
  },
  {
   "cell_type": "markdown",
   "metadata": {},
   "source": [
    "<a id=\"f_models\"><a>\n",
    "## 4.1 First Models"
   ]
  },
  {
   "cell_type": "markdown",
   "metadata": {},
   "source": [
    "We now will define a broad range of supervised learning classification models, that we want to fit our data on and then evaluate, which models do perform best. Our selection includes:\n",
    "* Logistic Regression\n",
    "* Logistic Regression Cross-Validation\n",
    "* k-Nearest-Neighbors\n",
    "* Decision Tree\n",
    "* Support Vector Machines\n",
    "* Ridge Classifier\n",
    "* Support Vector Classifier\n",
    "\n",
    "\n",
    "We will also try some more \"advanced\" models:\n",
    "* Random Forest\n",
    "* AdaBoost Classification\n",
    "* Gradient Boosting Classification\n",
    "* Stacking"
   ]
  },
  {
   "cell_type": "code",
   "execution_count": 23,
   "metadata": {},
   "outputs": [],
   "source": [
    "from sklearn.linear_model import LogisticRegression\n",
    "from sklearn.linear_model import LogisticRegressionCV\n",
    "from sklearn.neighbors import KNeighborsClassifier\n",
    "from sklearn.tree import DecisionTreeClassifier\n",
    "from sklearn.linear_model import RidgeClassifier\n",
    "from sklearn.ensemble import RandomForestClassifier\n",
    "from sklearn.ensemble import AdaBoostClassifier\n",
    "from sklearn.ensemble import GradientBoostingClassifier\n",
    "from sklearn.discriminant_analysis import LinearDiscriminantAnalysis\n",
    "from sklearn.svm import SVC"
   ]
  },
  {
   "cell_type": "code",
   "execution_count": 22,
   "metadata": {},
   "outputs": [],
   "source": [
    "clf_list = [\n",
    "    LogisticRegression(max_iter=10000, class_weight='balanced', solver='newton-cg'),\n",
    "    LogisticRegressionCV(class_weight='balanced', solver='newton-cg', max_iter=10000),\n",
    "    KNeighborsClassifier(n_neighbors=8),\n",
    "    DecisionTreeClassifier(max_depth=None, min_samples_split=2, min_samples_leaf=1, class_weight='balanced'),\n",
    "    RidgeClassifier(class_weight = 'balanced'),\n",
    "    # RandomForestClassifier(class_weight = 'balanced', n_jobs = -1),\n",
    "    LinearDiscriminantAnalysis(),\n",
    "    SVC(class_weight='balanced')\n",
    "            ]"
   ]
  },
  {
   "cell_type": "code",
   "execution_count": 24,
   "metadata": {},
   "outputs": [],
   "source": [
    "from sklearn.metrics import f1_score\n",
    "from sklearn.metrics import accuracy_score\n",
    "from sklearn.metrics import recall_score"
   ]
  },
  {
   "cell_type": "markdown",
   "metadata": {},
   "source": [
    "<a id=\"pv_models\"><a>\n",
    "### 4.1.1 Plain Vanilla Basic Models"
   ]
  },
  {
   "cell_type": "code",
   "execution_count": 68,
   "metadata": {},
   "outputs": [],
   "source": [
    "recalls_plain = []\n",
    "accuracys_plain = []\n",
    "f1s_plain = []\n",
    "\n",
    "for i in clf_list:\n",
    "    \n",
    "    estimator = i\n",
    "    estimator.fit(X_train, y_train)\n",
    "    pred = estimator.predict(X_test)\n",
    "    \n",
    "    recall = recall_score(y_test, pred)\n",
    "    recalls_plain.append(recall)\n",
    "    \n",
    "    accuracy = accuracy_score(y_test, pred)\n",
    "    accuracys_plain.append(accuracy)\n",
    "    \n",
    "    f1 = f1_score(y_test, pred)\n",
    "    f1s_plain.append(f1)"
   ]
  },
  {
   "cell_type": "code",
   "execution_count": 69,
   "metadata": {},
   "outputs": [
    {
     "data": {
      "text/html": [
       "<div>\n",
       "<style scoped>\n",
       "    .dataframe tbody tr th:only-of-type {\n",
       "        vertical-align: middle;\n",
       "    }\n",
       "\n",
       "    .dataframe tbody tr th {\n",
       "        vertical-align: top;\n",
       "    }\n",
       "\n",
       "    .dataframe thead th {\n",
       "        text-align: right;\n",
       "    }\n",
       "</style>\n",
       "<table border=\"1\" class=\"dataframe\">\n",
       "  <thead>\n",
       "    <tr style=\"text-align: right;\">\n",
       "      <th></th>\n",
       "      <th>Classifier</th>\n",
       "      <th>Recall</th>\n",
       "      <th>Accuracy</th>\n",
       "      <th>F1</th>\n",
       "    </tr>\n",
       "  </thead>\n",
       "  <tbody>\n",
       "    <tr>\n",
       "      <th>0</th>\n",
       "      <td>LogisticRegression(class_weight='balanced', ma...</td>\n",
       "      <td>0.660021</td>\n",
       "      <td>0.671664</td>\n",
       "      <td>0.728934</td>\n",
       "    </tr>\n",
       "    <tr>\n",
       "      <th>1</th>\n",
       "      <td>LogisticRegressionCV(class_weight='balanced', ...</td>\n",
       "      <td>0.660021</td>\n",
       "      <td>0.671664</td>\n",
       "      <td>0.728934</td>\n",
       "    </tr>\n",
       "    <tr>\n",
       "      <th>2</th>\n",
       "      <td>KNeighborsClassifier(n_neighbors=8)</td>\n",
       "      <td>0.770133</td>\n",
       "      <td>0.673146</td>\n",
       "      <td>0.759152</td>\n",
       "    </tr>\n",
       "    <tr>\n",
       "      <th>3</th>\n",
       "      <td>DecisionTreeClassifier(class_weight='balanced')</td>\n",
       "      <td>0.715142</td>\n",
       "      <td>0.626427</td>\n",
       "      <td>0.719172</td>\n",
       "    </tr>\n",
       "    <tr>\n",
       "      <th>4</th>\n",
       "      <td>RidgeClassifier(class_weight='balanced')</td>\n",
       "      <td>0.654157</td>\n",
       "      <td>0.668177</td>\n",
       "      <td>0.725067</td>\n",
       "    </tr>\n",
       "    <tr>\n",
       "      <th>5</th>\n",
       "      <td>LinearDiscriminantAnalysis()</td>\n",
       "      <td>0.879072</td>\n",
       "      <td>0.707923</td>\n",
       "      <td>0.801045</td>\n",
       "    </tr>\n",
       "    <tr>\n",
       "      <th>6</th>\n",
       "      <td>SVC()</td>\n",
       "      <td>0.908783</td>\n",
       "      <td>0.716029</td>\n",
       "      <td>0.810647</td>\n",
       "    </tr>\n",
       "  </tbody>\n",
       "</table>\n",
       "</div>"
      ],
      "text/plain": [
       "                                          Classifier    Recall  Accuracy  \\\n",
       "0  LogisticRegression(class_weight='balanced', ma...  0.660021  0.671664   \n",
       "1  LogisticRegressionCV(class_weight='balanced', ...  0.660021  0.671664   \n",
       "2                KNeighborsClassifier(n_neighbors=8)  0.770133  0.673146   \n",
       "3    DecisionTreeClassifier(class_weight='balanced')  0.715142  0.626427   \n",
       "4           RidgeClassifier(class_weight='balanced')  0.654157  0.668177   \n",
       "5                       LinearDiscriminantAnalysis()  0.879072  0.707923   \n",
       "6                                              SVC()  0.908783  0.716029   \n",
       "\n",
       "         F1  \n",
       "0  0.728934  \n",
       "1  0.728934  \n",
       "2  0.759152  \n",
       "3  0.719172  \n",
       "4  0.725067  \n",
       "5  0.801045  \n",
       "6  0.810647  "
      ]
     },
     "execution_count": 69,
     "metadata": {},
     "output_type": "execute_result"
    }
   ],
   "source": [
    "pd.DataFrame({'Classifier':clf_list, 'Recall':recalls_plain, 'Accuracy':accuracys_plain, 'F1': f1s_plain})"
   ]
  },
  {
   "cell_type": "markdown",
   "metadata": {},
   "source": [
    "<a id=\"PCA_models\"><a>\n",
    "### 4.1.2 PCA Models"
   ]
  },
  {
   "cell_type": "code",
   "execution_count": 70,
   "metadata": {
    "collapsed": true,
    "jupyter": {
     "outputs_hidden": true
    }
   },
   "outputs": [
    {
     "name": "stderr",
     "output_type": "stream",
     "text": [
      "/Users/simon/opt/anaconda3/lib/python3.8/site-packages/scipy/optimize/linesearch.py:327: LineSearchWarning: The line search algorithm did not converge\n",
      "  warn('The line search algorithm did not converge', LineSearchWarning)\n",
      "/Users/simon/opt/anaconda3/lib/python3.8/site-packages/sklearn/utils/optimize.py:204: UserWarning: Line Search failed\n",
      "  warnings.warn('Line Search failed')\n",
      "/Users/simon/opt/anaconda3/lib/python3.8/site-packages/scipy/optimize/linesearch.py:437: LineSearchWarning: Rounding errors prevent the line search from converging\n",
      "  warn(msg, LineSearchWarning)\n",
      "/Users/simon/opt/anaconda3/lib/python3.8/site-packages/scipy/optimize/linesearch.py:327: LineSearchWarning: The line search algorithm did not converge\n",
      "  warn('The line search algorithm did not converge', LineSearchWarning)\n",
      "/Users/simon/opt/anaconda3/lib/python3.8/site-packages/sklearn/utils/optimize.py:204: UserWarning: Line Search failed\n",
      "  warnings.warn('Line Search failed')\n"
     ]
    }
   ],
   "source": [
    "recalls_pca = []\n",
    "accuracys_pca = []\n",
    "f1s_pca = []\n",
    "\n",
    "for i in clf_list:\n",
    "\n",
    "    estimator = i\n",
    "    estimator.fit(X_train_pca, y_train_pca)\n",
    "    pred = estimator.predict(X_test_pca)\n",
    "    \n",
    "    recall = recall_score(y_test_pca, pred)\n",
    "    recalls_pca.append(recall)\n",
    "    \n",
    "    accuracy = accuracy_score(y_test_pca, pred)\n",
    "    accuracys_pca.append(accuracy)\n",
    "    \n",
    "    f1 = f1_score(y_test_pca, pred)\n",
    "    f1s_pca.append(f1)"
   ]
  },
  {
   "cell_type": "code",
   "execution_count": 71,
   "metadata": {},
   "outputs": [
    {
     "data": {
      "text/html": [
       "<div>\n",
       "<style scoped>\n",
       "    .dataframe tbody tr th:only-of-type {\n",
       "        vertical-align: middle;\n",
       "    }\n",
       "\n",
       "    .dataframe tbody tr th {\n",
       "        vertical-align: top;\n",
       "    }\n",
       "\n",
       "    .dataframe thead th {\n",
       "        text-align: right;\n",
       "    }\n",
       "</style>\n",
       "<table border=\"1\" class=\"dataframe\">\n",
       "  <thead>\n",
       "    <tr style=\"text-align: right;\">\n",
       "      <th></th>\n",
       "      <th>clf</th>\n",
       "      <th>recall</th>\n",
       "      <th>accuracy</th>\n",
       "      <th>f1</th>\n",
       "    </tr>\n",
       "  </thead>\n",
       "  <tbody>\n",
       "    <tr>\n",
       "      <th>0</th>\n",
       "      <td>LogisticRegression(class_weight='balanced', ma...</td>\n",
       "      <td>0.655069</td>\n",
       "      <td>0.667480</td>\n",
       "      <td>0.724926</td>\n",
       "    </tr>\n",
       "    <tr>\n",
       "      <th>1</th>\n",
       "      <td>LogisticRegressionCV(class_weight='balanced', ...</td>\n",
       "      <td>0.654939</td>\n",
       "      <td>0.667393</td>\n",
       "      <td>0.724834</td>\n",
       "    </tr>\n",
       "    <tr>\n",
       "      <th>2</th>\n",
       "      <td>KNeighborsClassifier(n_neighbors=8)</td>\n",
       "      <td>0.767396</td>\n",
       "      <td>0.673581</td>\n",
       "      <td>0.758745</td>\n",
       "    </tr>\n",
       "    <tr>\n",
       "      <th>3</th>\n",
       "      <td>DecisionTreeClassifier(class_weight='balanced')</td>\n",
       "      <td>0.719051</td>\n",
       "      <td>0.625207</td>\n",
       "      <td>0.719614</td>\n",
       "    </tr>\n",
       "    <tr>\n",
       "      <th>4</th>\n",
       "      <td>RidgeClassifier(class_weight='balanced')</td>\n",
       "      <td>0.650248</td>\n",
       "      <td>0.665301</td>\n",
       "      <td>0.722142</td>\n",
       "    </tr>\n",
       "    <tr>\n",
       "      <th>5</th>\n",
       "      <td>LinearDiscriminantAnalysis()</td>\n",
       "      <td>0.882591</td>\n",
       "      <td>0.704175</td>\n",
       "      <td>0.799646</td>\n",
       "    </tr>\n",
       "    <tr>\n",
       "      <th>6</th>\n",
       "      <td>SVC()</td>\n",
       "      <td>0.907219</td>\n",
       "      <td>0.712978</td>\n",
       "      <td>0.808736</td>\n",
       "    </tr>\n",
       "  </tbody>\n",
       "</table>\n",
       "</div>"
      ],
      "text/plain": [
       "                                                 clf    recall  accuracy  \\\n",
       "0  LogisticRegression(class_weight='balanced', ma...  0.655069  0.667480   \n",
       "1  LogisticRegressionCV(class_weight='balanced', ...  0.654939  0.667393   \n",
       "2                KNeighborsClassifier(n_neighbors=8)  0.767396  0.673581   \n",
       "3    DecisionTreeClassifier(class_weight='balanced')  0.719051  0.625207   \n",
       "4           RidgeClassifier(class_weight='balanced')  0.650248  0.665301   \n",
       "5                       LinearDiscriminantAnalysis()  0.882591  0.704175   \n",
       "6                                              SVC()  0.907219  0.712978   \n",
       "\n",
       "         f1  \n",
       "0  0.724926  \n",
       "1  0.724834  \n",
       "2  0.758745  \n",
       "3  0.719614  \n",
       "4  0.722142  \n",
       "5  0.799646  \n",
       "6  0.808736  "
      ]
     },
     "execution_count": 71,
     "metadata": {},
     "output_type": "execute_result"
    }
   ],
   "source": [
    "pd.DataFrame({'clf':clf_list, 'recall':recalls_pca, 'accuracy':accuracys_pca, 'f1': f1s_pca})"
   ]
  },
  {
   "cell_type": "markdown",
   "metadata": {},
   "source": [
    "<a id=\"svd_models\"><a>\n",
    "### 4.1.3 SVD Models"
   ]
  },
  {
   "cell_type": "code",
   "execution_count": 72,
   "metadata": {},
   "outputs": [],
   "source": [
    "recalls_svd = []\n",
    "accuracys_svd = []\n",
    "f1s_svd = []\n",
    "\n",
    "for i in clf_list:\n",
    "\n",
    "    estimator = i\n",
    "    estimator.fit(X_train_svd, y_train_svd)\n",
    "    pred = estimator.predict(X_test_svd)\n",
    "    \n",
    "    recall = recall_score(y_test_svd, pred)\n",
    "    recalls_svd.append(recall)\n",
    "    \n",
    "    accuracy = accuracy_score(y_test_svd, pred)\n",
    "    accuracys_svd.append(accuracy)\n",
    "    \n",
    "    f1 = f1_score(y_test_svd, pred)\n",
    "    f1s_svd.append(f1)"
   ]
  },
  {
   "cell_type": "code",
   "execution_count": 73,
   "metadata": {},
   "outputs": [
    {
     "data": {
      "text/html": [
       "<div>\n",
       "<style scoped>\n",
       "    .dataframe tbody tr th:only-of-type {\n",
       "        vertical-align: middle;\n",
       "    }\n",
       "\n",
       "    .dataframe tbody tr th {\n",
       "        vertical-align: top;\n",
       "    }\n",
       "\n",
       "    .dataframe thead th {\n",
       "        text-align: right;\n",
       "    }\n",
       "</style>\n",
       "<table border=\"1\" class=\"dataframe\">\n",
       "  <thead>\n",
       "    <tr style=\"text-align: right;\">\n",
       "      <th></th>\n",
       "      <th>clf</th>\n",
       "      <th>recall</th>\n",
       "      <th>accuracy</th>\n",
       "      <th>f1</th>\n",
       "    </tr>\n",
       "  </thead>\n",
       "  <tbody>\n",
       "    <tr>\n",
       "      <th>0</th>\n",
       "      <td>LogisticRegression(class_weight='balanced', ma...</td>\n",
       "      <td>0.660021</td>\n",
       "      <td>0.671751</td>\n",
       "      <td>0.728987</td>\n",
       "    </tr>\n",
       "    <tr>\n",
       "      <th>1</th>\n",
       "      <td>LogisticRegressionCV(class_weight='balanced', ...</td>\n",
       "      <td>0.660151</td>\n",
       "      <td>0.671838</td>\n",
       "      <td>0.729078</td>\n",
       "    </tr>\n",
       "    <tr>\n",
       "      <th>2</th>\n",
       "      <td>KNeighborsClassifier(n_neighbors=8)</td>\n",
       "      <td>0.769872</td>\n",
       "      <td>0.672971</td>\n",
       "      <td>0.758993</td>\n",
       "    </tr>\n",
       "    <tr>\n",
       "      <th>3</th>\n",
       "      <td>DecisionTreeClassifier(class_weight='balanced')</td>\n",
       "      <td>0.721397</td>\n",
       "      <td>0.630350</td>\n",
       "      <td>0.723046</td>\n",
       "    </tr>\n",
       "    <tr>\n",
       "      <th>4</th>\n",
       "      <td>RidgeClassifier(class_weight='balanced')</td>\n",
       "      <td>0.654287</td>\n",
       "      <td>0.668439</td>\n",
       "      <td>0.725264</td>\n",
       "    </tr>\n",
       "    <tr>\n",
       "      <th>5</th>\n",
       "      <td>LinearDiscriminantAnalysis()</td>\n",
       "      <td>0.878812</td>\n",
       "      <td>0.707749</td>\n",
       "      <td>0.800903</td>\n",
       "    </tr>\n",
       "    <tr>\n",
       "      <th>6</th>\n",
       "      <td>SVC()</td>\n",
       "      <td>0.908653</td>\n",
       "      <td>0.715855</td>\n",
       "      <td>0.810531</td>\n",
       "    </tr>\n",
       "  </tbody>\n",
       "</table>\n",
       "</div>"
      ],
      "text/plain": [
       "                                                 clf    recall  accuracy  \\\n",
       "0  LogisticRegression(class_weight='balanced', ma...  0.660021  0.671751   \n",
       "1  LogisticRegressionCV(class_weight='balanced', ...  0.660151  0.671838   \n",
       "2                KNeighborsClassifier(n_neighbors=8)  0.769872  0.672971   \n",
       "3    DecisionTreeClassifier(class_weight='balanced')  0.721397  0.630350   \n",
       "4           RidgeClassifier(class_weight='balanced')  0.654287  0.668439   \n",
       "5                       LinearDiscriminantAnalysis()  0.878812  0.707749   \n",
       "6                                              SVC()  0.908653  0.715855   \n",
       "\n",
       "         f1  \n",
       "0  0.728987  \n",
       "1  0.729078  \n",
       "2  0.758993  \n",
       "3  0.723046  \n",
       "4  0.725264  \n",
       "5  0.800903  \n",
       "6  0.810531  "
      ]
     },
     "execution_count": 73,
     "metadata": {},
     "output_type": "execute_result"
    }
   ],
   "source": [
    "pd.DataFrame({'clf':clf_list, 'recall':recalls_svd, 'accuracy':accuracys_svd, 'f1': f1s_svd})"
   ]
  },
  {
   "cell_type": "markdown",
   "metadata": {},
   "source": [
    "If we decide to maximize the recall, we will go for the SVD data set."
   ]
  },
  {
   "cell_type": "markdown",
   "metadata": {},
   "source": [
    "<a id=\"eval_dim_red\"><a>\n",
    "### 4.1.4 Evaluation of Dimensionality Reduction"
   ]
  },
  {
   "cell_type": "markdown",
   "metadata": {},
   "source": [
    "Metric Displayed: Recall"
   ]
  },
  {
   "cell_type": "code",
   "execution_count": 88,
   "metadata": {},
   "outputs": [
    {
     "data": {
      "text/html": [
       "<div>\n",
       "<style scoped>\n",
       "    .dataframe tbody tr th:only-of-type {\n",
       "        vertical-align: middle;\n",
       "    }\n",
       "\n",
       "    .dataframe tbody tr th {\n",
       "        vertical-align: top;\n",
       "    }\n",
       "\n",
       "    .dataframe thead th {\n",
       "        text-align: right;\n",
       "    }\n",
       "</style>\n",
       "<table border=\"1\" class=\"dataframe\">\n",
       "  <thead>\n",
       "    <tr style=\"text-align: right;\">\n",
       "      <th></th>\n",
       "      <th>Classifier</th>\n",
       "      <th>Plain Vanilla</th>\n",
       "      <th>PCA</th>\n",
       "      <th>SVD</th>\n",
       "    </tr>\n",
       "  </thead>\n",
       "  <tbody>\n",
       "    <tr>\n",
       "      <th>0</th>\n",
       "      <td>LogisticRegression(class_weight='balanced', ma...</td>\n",
       "      <td>0.660021</td>\n",
       "      <td>0.655069</td>\n",
       "      <td>0.660021</td>\n",
       "    </tr>\n",
       "    <tr>\n",
       "      <th>1</th>\n",
       "      <td>LogisticRegressionCV(class_weight='balanced', ...</td>\n",
       "      <td>0.660021</td>\n",
       "      <td>0.654939</td>\n",
       "      <td>0.660151</td>\n",
       "    </tr>\n",
       "    <tr>\n",
       "      <th>2</th>\n",
       "      <td>KNeighborsClassifier(n_neighbors=8)</td>\n",
       "      <td>0.770133</td>\n",
       "      <td>0.767396</td>\n",
       "      <td>0.769872</td>\n",
       "    </tr>\n",
       "    <tr>\n",
       "      <th>3</th>\n",
       "      <td>DecisionTreeClassifier(class_weight='balanced')</td>\n",
       "      <td>0.715142</td>\n",
       "      <td>0.719051</td>\n",
       "      <td>0.721397</td>\n",
       "    </tr>\n",
       "    <tr>\n",
       "      <th>4</th>\n",
       "      <td>RidgeClassifier(class_weight='balanced')</td>\n",
       "      <td>0.654157</td>\n",
       "      <td>0.650248</td>\n",
       "      <td>0.654287</td>\n",
       "    </tr>\n",
       "    <tr>\n",
       "      <th>5</th>\n",
       "      <td>LinearDiscriminantAnalysis()</td>\n",
       "      <td>0.879072</td>\n",
       "      <td>0.882591</td>\n",
       "      <td>0.878812</td>\n",
       "    </tr>\n",
       "    <tr>\n",
       "      <th>6</th>\n",
       "      <td>SVC()</td>\n",
       "      <td>0.908783</td>\n",
       "      <td>0.907219</td>\n",
       "      <td>0.908653</td>\n",
       "    </tr>\n",
       "  </tbody>\n",
       "</table>\n",
       "</div>"
      ],
      "text/plain": [
       "                                          Classifier  Plain Vanilla       PCA  \\\n",
       "0  LogisticRegression(class_weight='balanced', ma...       0.660021  0.655069   \n",
       "1  LogisticRegressionCV(class_weight='balanced', ...       0.660021  0.654939   \n",
       "2                KNeighborsClassifier(n_neighbors=8)       0.770133  0.767396   \n",
       "3    DecisionTreeClassifier(class_weight='balanced')       0.715142  0.719051   \n",
       "4           RidgeClassifier(class_weight='balanced')       0.654157  0.650248   \n",
       "5                       LinearDiscriminantAnalysis()       0.879072  0.882591   \n",
       "6                                              SVC()       0.908783  0.907219   \n",
       "\n",
       "        SVD  \n",
       "0  0.660021  \n",
       "1  0.660151  \n",
       "2  0.769872  \n",
       "3  0.721397  \n",
       "4  0.654287  \n",
       "5  0.878812  \n",
       "6  0.908653  "
      ]
     },
     "execution_count": 88,
     "metadata": {},
     "output_type": "execute_result"
    }
   ],
   "source": [
    "pd.DataFrame({'Classifier':clf_list, 'Plain Vanilla':recalls_plain, 'PCA':recalls_pca, 'SVD': recalls_svd})"
   ]
  },
  {
   "cell_type": "markdown",
   "metadata": {},
   "source": [
    "Interestingly, almost in all cases, PCA performs slightly worse than the Plain Vanilla Basic models and the SVD data sets.\n",
    "\n",
    "SVD seems to work slightly better for both models, although there is not much difference, in most cases. Therefore, we will continue and take the SVD data sets as standard for the hyperparameter tuning and all following steps."
   ]
  },
  {
   "cell_type": "markdown",
   "metadata": {},
   "source": [
    "<a id=\"gscv\"><a>\n",
    "## 4.2 GridSearchCV for Hyperparameter-Tuning"
   ]
  },
  {
   "cell_type": "markdown",
   "metadata": {},
   "source": [
    "Sticking to the SVD data set, we will optimize the hyperparameters of the most promising classifiers."
   ]
  },
  {
   "cell_type": "code",
   "execution_count": 127,
   "metadata": {},
   "outputs": [],
   "source": [
    "from sklearn.model_selection import GridSearchCV"
   ]
  },
  {
   "cell_type": "code",
   "execution_count": 128,
   "metadata": {},
   "outputs": [],
   "source": [
    "X = df_model.drop(['LoanStatus'], axis=1)\n",
    "y = df_model['LoanStatus']"
   ]
  },
  {
   "cell_type": "code",
   "execution_count": 129,
   "metadata": {},
   "outputs": [],
   "source": [
    "X = preprocessor.fit_transform(X)\n",
    "\n",
    "svd = TruncatedSVD(n_components_svd)\n",
    "X = svd.fit_transform(X)\n",
    "\n",
    "X_train, X_test, y_train, y_test = train_test_split(X, y, test_size=0.2, random_state=42)"
   ]
  },
  {
   "cell_type": "markdown",
   "metadata": {},
   "source": [
    "As we want to optimize for the Recall for our business Problem, we set the scoring attribute to Recall in the following GridSearch classifiers."
   ]
  },
  {
   "cell_type": "markdown",
   "metadata": {},
   "source": [
    "<a id=\"logreg\"><a>\n",
    "### 4.2.1 Logistic Regression"
   ]
  },
  {
   "cell_type": "code",
   "execution_count": 263,
   "metadata": {},
   "outputs": [],
   "source": [
    "log_reg = LogisticRegression(max_iter=10000, class_weight='balanced', solver='liblinear')\n",
    "\n",
    "grid = {'C':[0.001, 0.01, 0.1, 1, 10, 100, 1000], 'penalty': ['l1', 'l2']}\n",
    "\n",
    "logreg_gs = GridSearchCV(log_reg, grid, cv=10, n_jobs=-1, scoring='recall')\n",
    "\n",
    "logreg_gs.fit(X_train, y_train)\n",
    "pred = logreg_gs.predict(X_test)\n",
    "\n",
    "recall_logreg = recall_score(y_test, pred)\n",
    "accuracy_logreg = accuracy_score(y_test, pred)"
   ]
  },
  {
   "cell_type": "code",
   "execution_count": 264,
   "metadata": {},
   "outputs": [
    {
     "data": {
      "text/plain": [
       "{'C': 100, 'penalty': 'l1'}"
      ]
     },
     "execution_count": 264,
     "metadata": {},
     "output_type": "execute_result"
    }
   ],
   "source": [
    "logreg_gs.best_params_"
   ]
  },
  {
   "cell_type": "code",
   "execution_count": 265,
   "metadata": {},
   "outputs": [
    {
     "data": {
      "text/plain": [
       "0.6600208496221006"
      ]
     },
     "execution_count": 265,
     "metadata": {},
     "output_type": "execute_result"
    }
   ],
   "source": [
    "recall_logreg"
   ]
  },
  {
   "cell_type": "markdown",
   "metadata": {},
   "source": [
    "<a id=\"knn\"><a>\n",
    "### 4.2.2 KNN"
   ]
  },
  {
   "cell_type": "code",
   "execution_count": 266,
   "metadata": {},
   "outputs": [],
   "source": [
    "knn = KNeighborsClassifier()\n",
    "\n",
    "grid = {'n_neighbors':range(6, 15)}\n",
    "\n",
    "knn_gs = GridSearchCV(knn, grid, cv=10, n_jobs=-1, scoring='recall')\n",
    "\n",
    "knn_gs.fit(X_train, y_train)\n",
    "pred = knn_gs.predict(X_test)\n",
    "\n",
    "recall_knn = recall_score(y_test, pred)\n",
    "accuracy_knn = accuracy_score(y_test, pred)"
   ]
  },
  {
   "cell_type": "code",
   "execution_count": 267,
   "metadata": {},
   "outputs": [
    {
     "data": {
      "text/plain": [
       "{'n_neighbors': 13}"
      ]
     },
     "execution_count": 267,
     "metadata": {},
     "output_type": "execute_result"
    }
   ],
   "source": [
    "knn_gs.best_params_"
   ]
  },
  {
   "cell_type": "code",
   "execution_count": 268,
   "metadata": {},
   "outputs": [
    {
     "data": {
      "text/plain": [
       "0.8537920250195465"
      ]
     },
     "execution_count": 268,
     "metadata": {},
     "output_type": "execute_result"
    }
   ],
   "source": [
    "recall_knn"
   ]
  },
  {
   "cell_type": "markdown",
   "metadata": {},
   "source": [
    "<a id=\"rg_c\"><a>\n",
    "### 4.2.3 Ridge Classifier"
   ]
  },
  {
   "cell_type": "code",
   "execution_count": 269,
   "metadata": {},
   "outputs": [],
   "source": [
    "ridge = RidgeClassifier(class_weight='balanced')\n",
    "\n",
    "grid = {'alpha':[0.001, 0.01, 0.1, 1], 'solver':['auto', 'svd',  'sag', 'saga']}\n",
    "\n",
    "ridge_gs = GridSearchCV(ridge, grid, cv=10, n_jobs=-1, scoring='recall')\n",
    "\n",
    "ridge_gs.fit(X_train, y_train)\n",
    "pred = ridge_gs.predict(X_test)\n",
    "\n",
    "recall_ridge = recall_score(y_test, pred)\n",
    "accuracy_ridge = accuracy_score(y_test, pred)"
   ]
  },
  {
   "cell_type": "code",
   "execution_count": 270,
   "metadata": {},
   "outputs": [
    {
     "data": {
      "text/plain": [
       "{'alpha': 0.1, 'solver': 'sag'}"
      ]
     },
     "execution_count": 270,
     "metadata": {},
     "output_type": "execute_result"
    }
   ],
   "source": [
    "ridge_gs.best_params_"
   ]
  },
  {
   "cell_type": "code",
   "execution_count": 271,
   "metadata": {},
   "outputs": [
    {
     "data": {
      "text/plain": [
       "0.6545478238206932"
      ]
     },
     "execution_count": 271,
     "metadata": {},
     "output_type": "execute_result"
    }
   ],
   "source": [
    "recall_ridge"
   ]
  },
  {
   "cell_type": "markdown",
   "metadata": {},
   "source": [
    "<a id=\"dt_c\"><a>\n",
    "### 4.2.4 Decision Tree Classifier"
   ]
  },
  {
   "cell_type": "code",
   "execution_count": 273,
   "metadata": {},
   "outputs": [],
   "source": [
    "tree = DecisionTreeClassifier(class_weight='balanced')\n",
    "grid = {'max_depth':[5, 10, 20, 30]}\n",
    "\n",
    "tree_gs = GridSearchCV(tree, grid, cv=10, n_jobs=-1, scoring='recall')\n",
    "\n",
    "tree_gs.fit(X_train, y_train)\n",
    "pred = tree_gs.predict(X_test)\n",
    "\n",
    "recall_tree = recall_score(y_test, pred)\n",
    "accuracy_tree = accuracy_score(y_test, pred)"
   ]
  },
  {
   "cell_type": "code",
   "execution_count": 274,
   "metadata": {},
   "outputs": [
    {
     "data": {
      "text/plain": [
       "{'max_depth': 30}"
      ]
     },
     "execution_count": 274,
     "metadata": {},
     "output_type": "execute_result"
    }
   ],
   "source": [
    "tree_gs.best_params_"
   ]
  },
  {
   "cell_type": "code",
   "execution_count": 275,
   "metadata": {},
   "outputs": [
    {
     "data": {
      "text/plain": [
       "0.7156632786030753"
      ]
     },
     "execution_count": 275,
     "metadata": {},
     "output_type": "execute_result"
    }
   ],
   "source": [
    "recall_tree"
   ]
  },
  {
   "cell_type": "markdown",
   "metadata": {},
   "source": [
    "<a id=\"svc\"><a>\n",
    "### 4.2.5 Support Vector Classifier"
   ]
  },
  {
   "cell_type": "code",
   "execution_count": 276,
   "metadata": {},
   "outputs": [],
   "source": [
    "svc = SVC(class_weight='balanced')\n",
    "\n",
    "grid = {'C':[0.001, 0.01, 0.1, 1]}\n",
    "\n",
    "svc_gs = GridSearchCV(svc, grid, cv=10, n_jobs=-1, scoring='recall')\n",
    "\n",
    "svc_gs.fit(X_train, y_train)\n",
    "pred_svc = svc_gs.predict(X_test)\n",
    "\n",
    "recall_svc = recall_score(y_test, pred_svc)\n",
    "accuracy_svc = accuracy_score(y_test, pred_svc)"
   ]
  },
  {
   "cell_type": "code",
   "execution_count": 277,
   "metadata": {},
   "outputs": [
    {
     "data": {
      "text/plain": [
       "{'C': 1}"
      ]
     },
     "execution_count": 277,
     "metadata": {},
     "output_type": "execute_result"
    }
   ],
   "source": [
    "svc_gs.best_params_"
   ]
  },
  {
   "cell_type": "markdown",
   "metadata": {},
   "source": [
    "<a id=\"model_perf_comparison\"><a>\n",
    "### Models Performance Comparison"
   ]
  },
  {
   "cell_type": "code",
   "execution_count": 278,
   "metadata": {},
   "outputs": [],
   "source": [
    "recalls = [recall_logreg, recall_knn, recall_ridge, recall_tree, recall_svc]\n",
    "accuracies = [accuracy_logreg, accuracy_knn, accuracy_ridge, accuracy_tree, accuracy_svc]\n",
    "\n",
    "classifiers = [\"Logistic Regression\", \"KNN\", \"Ridge Clf\", \"Decision Tree\", \"SVC\"]"
   ]
  },
  {
   "cell_type": "code",
   "execution_count": 279,
   "metadata": {},
   "outputs": [
    {
     "data": {
      "text/html": [
       "<div>\n",
       "<style scoped>\n",
       "    .dataframe tbody tr th:only-of-type {\n",
       "        vertical-align: middle;\n",
       "    }\n",
       "\n",
       "    .dataframe tbody tr th {\n",
       "        vertical-align: top;\n",
       "    }\n",
       "\n",
       "    .dataframe thead th {\n",
       "        text-align: right;\n",
       "    }\n",
       "</style>\n",
       "<table border=\"1\" class=\"dataframe\">\n",
       "  <thead>\n",
       "    <tr style=\"text-align: right;\">\n",
       "      <th></th>\n",
       "      <th>Classifier</th>\n",
       "      <th>Recall</th>\n",
       "      <th>Accuracy</th>\n",
       "    </tr>\n",
       "  </thead>\n",
       "  <tbody>\n",
       "    <tr>\n",
       "      <th>0</th>\n",
       "      <td>Logistic Regression</td>\n",
       "      <td>0.660021</td>\n",
       "      <td>0.671664</td>\n",
       "    </tr>\n",
       "    <tr>\n",
       "      <th>1</th>\n",
       "      <td>KNN</td>\n",
       "      <td>0.853792</td>\n",
       "      <td>0.694151</td>\n",
       "    </tr>\n",
       "    <tr>\n",
       "      <th>2</th>\n",
       "      <td>Ridge Clf</td>\n",
       "      <td>0.654548</td>\n",
       "      <td>0.668526</td>\n",
       "    </tr>\n",
       "    <tr>\n",
       "      <th>3</th>\n",
       "      <td>Decision Tree</td>\n",
       "      <td>0.715663</td>\n",
       "      <td>0.626602</td>\n",
       "    </tr>\n",
       "    <tr>\n",
       "      <th>4</th>\n",
       "      <td>SVC</td>\n",
       "      <td>0.647902</td>\n",
       "      <td>0.672710</td>\n",
       "    </tr>\n",
       "  </tbody>\n",
       "</table>\n",
       "</div>"
      ],
      "text/plain": [
       "            Classifier    Recall  Accuracy\n",
       "0  Logistic Regression  0.660021  0.671664\n",
       "1                  KNN  0.853792  0.694151\n",
       "2            Ridge Clf  0.654548  0.668526\n",
       "3        Decision Tree  0.715663  0.626602\n",
       "4                  SVC  0.647902  0.672710"
      ]
     },
     "execution_count": 279,
     "metadata": {},
     "output_type": "execute_result"
    }
   ],
   "source": [
    "pd.DataFrame({'Classifier': classifiers, 'Recall': recalls, 'Accuracy':accuracies})"
   ]
  },
  {
   "cell_type": "markdown",
   "metadata": {},
   "source": [
    "The Classifier that performed best in regards to Recall  from these models was KNN."
   ]
  },
  {
   "cell_type": "markdown",
   "metadata": {},
   "source": [
    "<a id=\"adv_algo\"><a>\n",
    "## 4.3 Advanced Algorithms"
   ]
  },
  {
   "cell_type": "markdown",
   "metadata": {},
   "source": [
    "<a id=\"rf\"><a>\n",
    "### 4.3.1 Random Forest"
   ]
  },
  {
   "cell_type": "code",
   "execution_count": 1,
   "metadata": {},
   "outputs": [],
   "source": [
    "# Not fine-tuned due to extremely long compiling time"
   ]
  },
  {
   "cell_type": "code",
   "execution_count": 115,
   "metadata": {},
   "outputs": [],
   "source": [
    "from sklearn.ensemble import RandomForestClassifier"
   ]
  },
  {
   "cell_type": "code",
   "execution_count": 117,
   "metadata": {},
   "outputs": [],
   "source": [
    "forest = RandomForestClassifier(n_estimators = 100, class_weight='balanced', n_jobs=-1)\n",
    "\n",
    "forest.fit(X_train, y_train)\n",
    "pred = forest.predict(X_test)\n",
    "\n",
    "recall_forest = recall_score(y_test, pred)\n",
    "accuracy_forest = accuracy_score(y_test, pred)"
   ]
  },
  {
   "cell_type": "code",
   "execution_count": 118,
   "metadata": {},
   "outputs": [
    {
     "data": {
      "text/plain": [
       "0.9082616627573625"
      ]
     },
     "execution_count": 118,
     "metadata": {},
     "output_type": "execute_result"
    }
   ],
   "source": [
    "recall_forest"
   ]
  },
  {
   "cell_type": "code",
   "execution_count": 119,
   "metadata": {},
   "outputs": [
    {
     "data": {
      "text/plain": [
       "0.7075743048897412"
      ]
     },
     "execution_count": 119,
     "metadata": {},
     "output_type": "execute_result"
    }
   ],
   "source": [
    "accuracy_forest"
   ]
  },
  {
   "cell_type": "markdown",
   "metadata": {},
   "source": [
    "<a id=\"boost\"><a>\n",
    "### 4.3.2 Boosting"
   ]
  },
  {
   "cell_type": "markdown",
   "metadata": {},
   "source": [
    "<a id=\"adaboost_c\"><a>\n",
    "#### 4.3.2.1 AdaBoost Classifier"
   ]
  },
  {
   "cell_type": "markdown",
   "metadata": {},
   "source": [
    "As SVC seems to be a very good performing classifier, we choose this classifier to further boost/optimize with AdaBoost and GradientBoosting."
   ]
  },
  {
   "cell_type": "code",
   "execution_count": 191,
   "metadata": {},
   "outputs": [],
   "source": [
    "from sklearn.ensemble import AdaBoostClassifier"
   ]
  },
  {
   "cell_type": "code",
   "execution_count": 192,
   "metadata": {},
   "outputs": [],
   "source": [
    "ada = AdaBoostClassifier(SVC(class_weight='balanced', C=1), n_estimators=3, algorithm='SAMME')\n",
    "\n",
    "ada.fit(X_train, y_train)\n",
    "pred_ada = ada.predict(X_test)\n",
    "\n",
    "recall_ada = recall_score(y_test, pred_ada)\n",
    "accuracy_ada = accuracy_score(y_test, pred_ada)"
   ]
  },
  {
   "cell_type": "code",
   "execution_count": 225,
   "metadata": {},
   "outputs": [],
   "source": [
    "f1_ada = f1_score(y_test, pred_ada)"
   ]
  },
  {
   "cell_type": "code",
   "execution_count": 226,
   "metadata": {},
   "outputs": [
    {
     "data": {
      "text/plain": [
       "0.8015877160912936"
      ]
     },
     "execution_count": 226,
     "metadata": {},
     "output_type": "execute_result"
    }
   ],
   "source": [
    "f1_ada"
   ]
  },
  {
   "cell_type": "code",
   "execution_count": 193,
   "metadata": {},
   "outputs": [
    {
     "data": {
      "text/plain": [
       "1.0"
      ]
     },
     "execution_count": 193,
     "metadata": {},
     "output_type": "execute_result"
    }
   ],
   "source": [
    "recall_ada"
   ]
  },
  {
   "cell_type": "code",
   "execution_count": 194,
   "metadata": {},
   "outputs": [
    {
     "data": {
      "text/plain": [
       "0.6688747494116621"
      ]
     },
     "execution_count": 194,
     "metadata": {},
     "output_type": "execute_result"
    }
   ],
   "source": [
    "accuracy_ada"
   ]
  },
  {
   "cell_type": "markdown",
   "metadata": {},
   "source": [
    "As we optimized the metrics on recall, our goal was to maximize the default predictions. For the prosper case, we rather predict wrongly one completed loan as a defaulted one, as vice versa. The recall is calculated as the True positives (predicted as defaulted and acutally defaulted), devided through the sum of True positives and False negatives (predicted as completed but actually defaulted values). To get a better comparison between the different classifiers, we benchmark accuracy, recall, and F1-score. Usually, the higher these values are, the better are the model's predictions. However, it can also be too complex and tend to overfit. Suspicously, with AdaBoost Classifier we reach a recall score of 1.0 which means that we predict every loan as defaulted."
   ]
  },
  {
   "cell_type": "markdown",
   "metadata": {},
   "source": [
    "<a id=\"gboost_c\"><a>\n",
    "#### 4.3.2.2 GradientBoosting Classifier"
   ]
  },
  {
   "cell_type": "code",
   "execution_count": 203,
   "metadata": {},
   "outputs": [],
   "source": [
    "from sklearn.ensemble import GradientBoostingClassifier"
   ]
  },
  {
   "cell_type": "code",
   "execution_count": 204,
   "metadata": {},
   "outputs": [],
   "source": [
    "gradient = GradientBoostingClassifier(n_estimators = 2)"
   ]
  },
  {
   "cell_type": "code",
   "execution_count": 205,
   "metadata": {},
   "outputs": [],
   "source": [
    "gradient.fit(X_train, y_train)\n",
    "pred_gradient = gradient.predict(X_test)\n",
    "\n",
    "recall_gradient = recall_score(y_test, pred_gradient)\n",
    "accuracy_gradient = accuracy_score(y_test, pred_gradient)"
   ]
  },
  {
   "cell_type": "code",
   "execution_count": 206,
   "metadata": {},
   "outputs": [
    {
     "data": {
      "text/plain": [
       "1.0"
      ]
     },
     "execution_count": 206,
     "metadata": {},
     "output_type": "execute_result"
    }
   ],
   "source": [
    "recall_gradient"
   ]
  },
  {
   "cell_type": "code",
   "execution_count": 207,
   "metadata": {},
   "outputs": [
    {
     "data": {
      "text/plain": [
       "0.6688747494116621"
      ]
     },
     "execution_count": 207,
     "metadata": {},
     "output_type": "execute_result"
    }
   ],
   "source": [
    "accuracy_gradient"
   ]
  },
  {
   "cell_type": "markdown",
   "metadata": {},
   "source": [
    "The Gradient Boosting Classifier are usually used to combine many weak learning models together to create a strong predictive model. However, it can rapidly overfit the training set.To get a better comparison we used this method also result in a highly overfitted model. The racll score of the Gradient Boosting Classifier is again 1.0 which shows the overfitting.\n",
    "As we have both times overfitting we decided to further continue without boosting. Gradient Boosting Classifiers can benefit from regularization methods. These penalize various parts of the algorithm which results in an improvement of the performance of the algorithm through reduced overfitting."
   ]
  },
  {
   "cell_type": "markdown",
   "metadata": {},
   "source": [
    "<a id=\"stack\"><a>\n",
    "### 4.3.3 Stacking"
   ]
  },
  {
   "cell_type": "markdown",
   "metadata": {},
   "source": [
    "Learns how to best combine the predictions from multiple well-performing machine learning models."
   ]
  },
  {
   "cell_type": "code",
   "execution_count": 219,
   "metadata": {},
   "outputs": [],
   "source": [
    "from sklearn.ensemble import StackingClassifier"
   ]
  },
  {
   "cell_type": "code",
   "execution_count": 220,
   "metadata": {},
   "outputs": [],
   "source": [
    "estimators = [\n",
    "    ('logreg', LogisticRegression(C=100, penalty='l1', solver='liblinear', class_weight='balanced')),\n",
    "    ('ridge', RidgeClassifier(class_weight = 'balanced', alpha=0.1, solver= 'sag')),\n",
    "    ('knn', KNeighborsClassifier(n_neighbors=13)),\n",
    "    ('tree', DecisionTreeClassifier(max_depth=1))\n",
    "]\n",
    "\n",
    "final_estimator = SVC(class_weight='balanced', C=1)"
   ]
  },
  {
   "cell_type": "code",
   "execution_count": 221,
   "metadata": {},
   "outputs": [],
   "source": [
    "stack = StackingClassifier(estimators=estimators, final_estimator=final_estimator, cv=10, n_jobs=-1)"
   ]
  },
  {
   "cell_type": "code",
   "execution_count": 222,
   "metadata": {},
   "outputs": [],
   "source": [
    "stack.fit(X_train, y_train)\n",
    "pred_stack = stack.predict(X_test)\n",
    "\n",
    "recall_stack = recall_score(y_test, pred_stack)\n",
    "accuracy_stack = accuracy_score(y_test, pred_stack)"
   ]
  },
  {
   "cell_type": "code",
   "execution_count": 223,
   "metadata": {},
   "outputs": [
    {
     "data": {
      "text/plain": [
       "0.6217096690122491"
      ]
     },
     "execution_count": 223,
     "metadata": {},
     "output_type": "execute_result"
    }
   ],
   "source": [
    "recall_stack"
   ]
  },
  {
   "cell_type": "code",
   "execution_count": 224,
   "metadata": {},
   "outputs": [
    {
     "data": {
      "text/plain": [
       "0.6597228275080624"
      ]
     },
     "execution_count": 224,
     "metadata": {},
     "output_type": "execute_result"
    }
   ],
   "source": [
    "accuracy_stack"
   ]
  },
  {
   "cell_type": "markdown",
   "metadata": {},
   "source": [
    "<a id=\"neural_n\"><a>\n",
    "## 4.4 Neural Networks"
   ]
  },
  {
   "cell_type": "code",
   "execution_count": 130,
   "metadata": {},
   "outputs": [],
   "source": [
    "import tensorflow as tf\n",
    "from tensorflow import keras\n",
    "assert tf.__version__ >= \"2.0\"\n",
    "import numpy as np\n",
    "\n",
    "\n",
    "keras.backend.clear_session()\n",
    "tf.random.set_seed(42)\n",
    "np.random.seed(42)"
   ]
  },
  {
   "cell_type": "code",
   "execution_count": 131,
   "metadata": {},
   "outputs": [],
   "source": [
    "from keras.models import Sequential\n",
    "from keras.layers import Dense\n",
    "from keras.layers import Flatten"
   ]
  },
  {
   "cell_type": "code",
   "execution_count": 132,
   "metadata": {},
   "outputs": [],
   "source": [
    "r, input_shape_neural = X_train.shape"
   ]
  },
  {
   "cell_type": "code",
   "execution_count": 133,
   "metadata": {},
   "outputs": [
    {
     "data": {
      "text/plain": [
       "40"
      ]
     },
     "execution_count": 133,
     "metadata": {},
     "output_type": "execute_result"
    }
   ],
   "source": [
    "input_shape_neural"
   ]
  },
  {
   "cell_type": "markdown",
   "metadata": {},
   "source": [
    "already tried out a lot and found out that these hyperparameter combinations work more or less the best."
   ]
  },
  {
   "cell_type": "code",
   "execution_count": 134,
   "metadata": {},
   "outputs": [],
   "source": [
    "model = Sequential()\n",
    "# Input Layer\n",
    "model.add(Dense(100, input_shape=(input_shape_neural,)))\n",
    "\n",
    "# 10 Hidden Layers of 20 neurons each\n",
    "for i in range(3):\n",
    "    model.add(Dense(100, activation='relu'))\n",
    "\n",
    "# Output Layer\n",
    "model.add(Dense(2, activation='softmax'))"
   ]
  },
  {
   "cell_type": "code",
   "execution_count": 135,
   "metadata": {},
   "outputs": [],
   "source": [
    "from keras.optimizers import SGD\n",
    "optimizer = SGD(lr=1e-3)"
   ]
  },
  {
   "cell_type": "code",
   "execution_count": 136,
   "metadata": {},
   "outputs": [],
   "source": [
    "model.compile(loss=\"sparse_categorical_crossentropy\", optimizer=optimizer, metrics = [tf.keras.metrics.Recall])"
   ]
  },
  {
   "cell_type": "code",
   "execution_count": 137,
   "metadata": {},
   "outputs": [],
   "source": [
    "epochs = 50"
   ]
  },
  {
   "cell_type": "code",
   "execution_count": 138,
   "metadata": {
    "collapsed": true,
    "jupyter": {
     "outputs_hidden": true
    }
   },
   "outputs": [
    {
     "name": "stdout",
     "output_type": "stream",
     "text": [
      "Epoch 1/50\n",
      "1434/1434 [==============================] - 5s 3ms/step - loss: 0.6478 - accuracy: 0.6548 - val_loss: 0.5960 - val_accuracy: 0.6756\n",
      "Epoch 2/50\n",
      "1434/1434 [==============================] - 4s 3ms/step - loss: 0.5888 - accuracy: 0.6831 - val_loss: 0.5773 - val_accuracy: 0.6933\n",
      "Epoch 3/50\n",
      "1434/1434 [==============================] - 4s 3ms/step - loss: 0.5743 - accuracy: 0.6958 - val_loss: 0.5689 - val_accuracy: 0.7009\n",
      "Epoch 4/50\n",
      "1434/1434 [==============================] - 4s 2ms/step - loss: 0.5706 - accuracy: 0.6957 - val_loss: 0.5639 - val_accuracy: 0.7039\n",
      "Epoch 5/50\n",
      "1434/1434 [==============================] - 4s 3ms/step - loss: 0.5621 - accuracy: 0.7034 - val_loss: 0.5608 - val_accuracy: 0.7064\n",
      "Epoch 6/50\n",
      "1434/1434 [==============================] - 4s 3ms/step - loss: 0.5582 - accuracy: 0.7047 - val_loss: 0.5583 - val_accuracy: 0.7071\n",
      "Epoch 7/50\n",
      "1434/1434 [==============================] - 3s 2ms/step - loss: 0.5549 - accuracy: 0.7084 - val_loss: 0.5565 - val_accuracy: 0.7066\n",
      "Epoch 8/50\n",
      "1434/1434 [==============================] - 4s 3ms/step - loss: 0.5555 - accuracy: 0.7082 - val_loss: 0.5549 - val_accuracy: 0.7052\n",
      "Epoch 9/50\n",
      "1434/1434 [==============================] - 4s 3ms/step - loss: 0.5554 - accuracy: 0.7084 - val_loss: 0.5539 - val_accuracy: 0.7068\n",
      "Epoch 10/50\n",
      "1434/1434 [==============================] - 5s 4ms/step - loss: 0.5559 - accuracy: 0.7067 - val_loss: 0.5527 - val_accuracy: 0.7077\n",
      "Epoch 11/50\n",
      "1434/1434 [==============================] - 4s 3ms/step - loss: 0.5541 - accuracy: 0.7095 - val_loss: 0.5520 - val_accuracy: 0.7084\n",
      "Epoch 12/50\n",
      "1434/1434 [==============================] - 5s 3ms/step - loss: 0.5514 - accuracy: 0.7133 - val_loss: 0.5511 - val_accuracy: 0.7077\n",
      "Epoch 13/50\n",
      "1434/1434 [==============================] - 5s 4ms/step - loss: 0.5443 - accuracy: 0.7179 - val_loss: 0.5506 - val_accuracy: 0.7077\n",
      "Epoch 14/50\n",
      "1434/1434 [==============================] - 3s 2ms/step - loss: 0.5467 - accuracy: 0.7132 - val_loss: 0.5500 - val_accuracy: 0.7072\n",
      "Epoch 15/50\n",
      "1434/1434 [==============================] - 3s 2ms/step - loss: 0.5470 - accuracy: 0.7144 - val_loss: 0.5496 - val_accuracy: 0.7073\n",
      "Epoch 16/50\n",
      "1434/1434 [==============================] - 4s 2ms/step - loss: 0.5446 - accuracy: 0.7140 - val_loss: 0.5489 - val_accuracy: 0.7098\n",
      "Epoch 17/50\n",
      "1434/1434 [==============================] - 3s 2ms/step - loss: 0.5468 - accuracy: 0.7145 - val_loss: 0.5485 - val_accuracy: 0.7087\n",
      "Epoch 18/50\n",
      "1434/1434 [==============================] - 4s 3ms/step - loss: 0.5433 - accuracy: 0.7176 - val_loss: 0.5482 - val_accuracy: 0.7084\n",
      "Epoch 19/50\n",
      "1434/1434 [==============================] - 4s 3ms/step - loss: 0.5419 - accuracy: 0.7200 - val_loss: 0.5477 - val_accuracy: 0.7098\n",
      "Epoch 20/50\n",
      "1434/1434 [==============================] - 4s 3ms/step - loss: 0.5416 - accuracy: 0.7166 - val_loss: 0.5474 - val_accuracy: 0.7091\n",
      "Epoch 21/50\n",
      "1434/1434 [==============================] - 3s 2ms/step - loss: 0.5413 - accuracy: 0.7194 - val_loss: 0.5473 - val_accuracy: 0.7095\n",
      "Epoch 22/50\n",
      "1434/1434 [==============================] - 3s 2ms/step - loss: 0.5417 - accuracy: 0.7196 - val_loss: 0.5469 - val_accuracy: 0.7100\n",
      "Epoch 23/50\n",
      "1434/1434 [==============================] - 4s 3ms/step - loss: 0.5416 - accuracy: 0.7187 - val_loss: 0.5467 - val_accuracy: 0.7112\n",
      "Epoch 24/50\n",
      "1434/1434 [==============================] - 3s 2ms/step - loss: 0.5433 - accuracy: 0.7165 - val_loss: 0.5465 - val_accuracy: 0.7116\n",
      "Epoch 25/50\n",
      "1434/1434 [==============================] - 3s 2ms/step - loss: 0.5377 - accuracy: 0.7207 - val_loss: 0.5465 - val_accuracy: 0.7125\n",
      "Epoch 26/50\n",
      "1434/1434 [==============================] - 5s 3ms/step - loss: 0.5371 - accuracy: 0.7204 - val_loss: 0.5461 - val_accuracy: 0.7114\n",
      "Epoch 27/50\n",
      "1434/1434 [==============================] - 4s 3ms/step - loss: 0.5380 - accuracy: 0.7219 - val_loss: 0.5457 - val_accuracy: 0.7120\n",
      "Epoch 28/50\n",
      "1434/1434 [==============================] - 4s 3ms/step - loss: 0.5405 - accuracy: 0.7208 - val_loss: 0.5460 - val_accuracy: 0.7120\n",
      "Epoch 29/50\n",
      "1434/1434 [==============================] - 5s 3ms/step - loss: 0.5410 - accuracy: 0.7208 - val_loss: 0.5454 - val_accuracy: 0.7128\n",
      "Epoch 30/50\n",
      "1434/1434 [==============================] - 5s 3ms/step - loss: 0.5404 - accuracy: 0.7225 - val_loss: 0.5454 - val_accuracy: 0.7127\n",
      "Epoch 31/50\n",
      "1434/1434 [==============================] - 4s 3ms/step - loss: 0.5398 - accuracy: 0.7198 - val_loss: 0.5451 - val_accuracy: 0.7136\n",
      "Epoch 32/50\n",
      "1434/1434 [==============================] - 2s 2ms/step - loss: 0.5357 - accuracy: 0.7225 - val_loss: 0.5451 - val_accuracy: 0.7138\n",
      "Epoch 33/50\n",
      "1434/1434 [==============================] - 3s 2ms/step - loss: 0.5369 - accuracy: 0.7224 - val_loss: 0.5451 - val_accuracy: 0.7141\n",
      "Epoch 34/50\n",
      "1434/1434 [==============================] - 3s 2ms/step - loss: 0.5356 - accuracy: 0.7258 - val_loss: 0.5449 - val_accuracy: 0.7135\n",
      "Epoch 35/50\n",
      "1434/1434 [==============================] - 2s 2ms/step - loss: 0.5380 - accuracy: 0.7210 - val_loss: 0.5447 - val_accuracy: 0.7132\n",
      "Epoch 36/50\n",
      "1434/1434 [==============================] - 4s 3ms/step - loss: 0.5368 - accuracy: 0.7224 - val_loss: 0.5446 - val_accuracy: 0.7138\n",
      "Epoch 37/50\n",
      "1434/1434 [==============================] - 3s 2ms/step - loss: 0.5336 - accuracy: 0.7269 - val_loss: 0.5448 - val_accuracy: 0.7144\n",
      "Epoch 38/50\n",
      "1434/1434 [==============================] - 4s 3ms/step - loss: 0.5354 - accuracy: 0.7248 - val_loss: 0.5444 - val_accuracy: 0.7144\n",
      "Epoch 39/50\n",
      "1434/1434 [==============================] - 4s 3ms/step - loss: 0.5329 - accuracy: 0.7256 - val_loss: 0.5443 - val_accuracy: 0.7139\n",
      "Epoch 40/50\n",
      "1434/1434 [==============================] - 4s 3ms/step - loss: 0.5356 - accuracy: 0.7213 - val_loss: 0.5441 - val_accuracy: 0.7145\n",
      "Epoch 41/50\n",
      "1434/1434 [==============================] - 4s 3ms/step - loss: 0.5364 - accuracy: 0.7238 - val_loss: 0.5441 - val_accuracy: 0.7139\n",
      "Epoch 42/50\n",
      "1434/1434 [==============================] - 4s 3ms/step - loss: 0.5358 - accuracy: 0.7230 - val_loss: 0.5440 - val_accuracy: 0.7159\n",
      "Epoch 43/50\n",
      "1434/1434 [==============================] - 4s 2ms/step - loss: 0.5296 - accuracy: 0.7296 - val_loss: 0.5439 - val_accuracy: 0.7145\n",
      "Epoch 44/50\n",
      "1434/1434 [==============================] - 3s 2ms/step - loss: 0.5335 - accuracy: 0.7256 - val_loss: 0.5439 - val_accuracy: 0.7148\n",
      "Epoch 45/50\n",
      "1434/1434 [==============================] - 5s 3ms/step - loss: 0.5298 - accuracy: 0.7276 - val_loss: 0.5438 - val_accuracy: 0.7147\n",
      "Epoch 46/50\n",
      "1434/1434 [==============================] - 2s 2ms/step - loss: 0.5302 - accuracy: 0.7298 - val_loss: 0.5436 - val_accuracy: 0.7141\n",
      "Epoch 47/50\n",
      "1434/1434 [==============================] - 2s 2ms/step - loss: 0.5320 - accuracy: 0.7263 - val_loss: 0.5438 - val_accuracy: 0.7156\n",
      "Epoch 48/50\n",
      "1434/1434 [==============================] - 3s 2ms/step - loss: 0.5289 - accuracy: 0.7304 - val_loss: 0.5435 - val_accuracy: 0.7142\n",
      "Epoch 49/50\n",
      "1434/1434 [==============================] - 5s 4ms/step - loss: 0.5292 - accuracy: 0.7277 - val_loss: 0.5435 - val_accuracy: 0.7148\n",
      "Epoch 50/50\n",
      "1434/1434 [==============================] - 4s 2ms/step - loss: 0.5301 - accuracy: 0.7285 - val_loss: 0.5435 - val_accuracy: 0.7150\n"
     ]
    }
   ],
   "source": [
    "history = model.fit(X_train, y_train, epochs=epochs, validation_data=(X_test, y_test))"
   ]
  },
  {
   "cell_type": "code",
   "execution_count": 84,
   "metadata": {},
   "outputs": [
    {
     "name": "stdout",
     "output_type": "stream",
     "text": [
      "Train: 0.728, Test: 0.715\n"
     ]
    },
    {
     "data": {
      "image/png": "[encoded data removed]",
      "text/plain": [
       "<Figure size 432x288 with 1 Axes>"
      ]
     },
     "metadata": {
      "needs_background": "light"
     },
     "output_type": "display_data"
    }
   ],
   "source": [
    "_, train_recall = model.evaluate(X_train, y_train, verbose=0)\n",
    "_, val_recall = model.evaluate(X_test, y_test, verbose=0)\n",
    "print('Train: %.3f, Test: %.3f' % (train_recall, val_recall))\n",
    "# plot history\n",
    "import matplotlib.pyplot as plt\n",
    "plt.plot(history.history['recall'], label='train')\n",
    "plt.plot(history.history['val_recall'], label='test')\n",
    "plt.legend()\n",
    "plt.show()"
   ]
  },
  {
   "cell_type": "markdown",
   "metadata": {},
   "source": [
    "After epoch 5/6, we see that our model starts to overfit, as train accuracy tends to increase, but test accuracy stays more or less on the same level. This can be seen by the divergence of the two curves. The neural network already is optimised, we tried it with more and less hidden layers, aand more and less neurons per layer, but this setup displayed here shows the best results."
   ]
  },
  {
   "cell_type": "markdown",
   "metadata": {},
   "source": [
    "<a id=\"pipeline\"><a>\n",
    "# 5. Building the full pipeline"
   ]
  },
  {
   "cell_type": "code",
   "execution_count": 66,
   "metadata": {},
   "outputs": [],
   "source": [
    "df_model = pd.read_csv(\"completed_default.csv\")"
   ]
  },
  {
   "cell_type": "code",
   "execution_count": 69,
   "metadata": {},
   "outputs": [],
   "source": [
    "X = df_model.drop(['LoanStatus'], axis=1)\n",
    "y = df_model['LoanStatus']"
   ]
  },
  {
   "cell_type": "code",
   "execution_count": 70,
   "metadata": {},
   "outputs": [],
   "source": [
    "from sklearn.model_selection import train_test_split\n",
    "X_train, X_test, y_train, y_test = train_test_split(X, y, test_size=0.2, random_state=42)"
   ]
  },
  {
   "cell_type": "markdown",
   "metadata": {},
   "source": [
    "<a id=\"logreg_th\"><a>\n",
    "## 5.1 Logistic Regression with Tuned Hyperparameters"
   ]
  },
  {
   "cell_type": "code",
   "execution_count": 33,
   "metadata": {},
   "outputs": [],
   "source": [
    "from sklearn.pipeline import Pipeline\n",
    "\n",
    "pipeline_logreg = Pipeline(steps=[\n",
    "    ('preprocessor', preprocessor),\n",
    "    ('svd', TruncatedSVD(n_components_svd)),\n",
    "    ('logreg', LogisticRegression(C=100, penalty='l1', solver='liblinear', class_weight='balanced'))\n",
    "])"
   ]
  },
  {
   "cell_type": "code",
   "execution_count": 34,
   "metadata": {},
   "outputs": [],
   "source": [
    "pipeline_logreg.fit(X_train, y_train)\n",
    "pred_logreg = pipeline_logreg.predict(X_test)"
   ]
  },
  {
   "cell_type": "code",
   "execution_count": 31,
   "metadata": {},
   "outputs": [],
   "source": [
    "from sklearn.metrics import roc_auc_score"
   ]
  },
  {
   "cell_type": "code",
   "execution_count": 36,
   "metadata": {},
   "outputs": [],
   "source": [
    "recall_logreg = recall_score(y_test, pred_logreg)\n",
    "accuracy_logreg = accuracy_score(y_test, pred_logreg)\n",
    "\n",
    "auc_logreg = roc_auc_score(y_test, pred_logreg)"
   ]
  },
  {
   "cell_type": "code",
   "execution_count": 37,
   "metadata": {},
   "outputs": [
    {
     "name": "stdout",
     "output_type": "stream",
     "text": [
      "              precision    recall  f1-score   support\n",
      "\n",
      "           0       0.50      0.69      0.58      3799\n",
      "           1       0.81      0.66      0.73      7674\n",
      "\n",
      "    accuracy                           0.67     11473\n",
      "   macro avg       0.66      0.68      0.66     11473\n",
      "weighted avg       0.71      0.67      0.68     11473\n",
      "\n"
     ]
    }
   ],
   "source": [
    "from sklearn.metrics import classification_report\n",
    "\n",
    "print(classification_report(y_test, pred_logreg))"
   ]
  },
  {
   "cell_type": "markdown",
   "metadata": {},
   "source": [
    "<a id=\"rc_th\"><a>\n",
    "## 5.2 Ridge Classifier with Tuned Hyperparameters"
   ]
  },
  {
   "cell_type": "code",
   "execution_count": 38,
   "metadata": {},
   "outputs": [],
   "source": [
    "pipeline_ridge = Pipeline(steps=[\n",
    "    ('preprocessor', preprocessor),\n",
    "    ('svd', TruncatedSVD(n_components_svd)),\n",
    "    ('ridge', RidgeClassifier(class_weight = 'balanced', alpha=0.1, solver= 'sag'))\n",
    "])"
   ]
  },
  {
   "cell_type": "code",
   "execution_count": 39,
   "metadata": {},
   "outputs": [],
   "source": [
    "pipeline_ridge.fit(X_train, y_train)\n",
    "pred_ridge = pipeline_ridge.predict(X_test)"
   ]
  },
  {
   "cell_type": "code",
   "execution_count": 40,
   "metadata": {},
   "outputs": [],
   "source": [
    "recall_ridge = recall_score(y_test, pred_ridge)\n",
    "accuracy_ridge = accuracy_score(y_test, pred_ridge)\n",
    "\n",
    "auc_ridge = roc_auc_score(y_test, pred_ridge)"
   ]
  },
  {
   "cell_type": "code",
   "execution_count": 41,
   "metadata": {},
   "outputs": [
    {
     "name": "stdout",
     "output_type": "stream",
     "text": [
      "              precision    recall  f1-score   support\n",
      "\n",
      "           0       0.50      0.70      0.58      3799\n",
      "           1       0.81      0.65      0.73      7674\n",
      "\n",
      "    accuracy                           0.67     11473\n",
      "   macro avg       0.66      0.68      0.65     11473\n",
      "weighted avg       0.71      0.67      0.68     11473\n",
      "\n"
     ]
    }
   ],
   "source": [
    "from sklearn.metrics import classification_report\n",
    "\n",
    "print(classification_report(y_test, pred_ridge))"
   ]
  },
  {
   "cell_type": "markdown",
   "metadata": {},
   "source": [
    "<a id=\"knn_th\"><a>\n",
    "## 5.3 KNN with Tuned Hyperparameters"
   ]
  },
  {
   "cell_type": "code",
   "execution_count": 71,
   "metadata": {},
   "outputs": [],
   "source": [
    "pipeline_knn = Pipeline(steps=[\n",
    "    ('preprocessor', preprocessor),\n",
    "    ('svd', TruncatedSVD(40)),\n",
    "    ('ridge', KNeighborsClassifier(n_neighbors=13))\n",
    "])"
   ]
  },
  {
   "cell_type": "code",
   "execution_count": 72,
   "metadata": {},
   "outputs": [],
   "source": [
    "pipeline_knn.fit(X_train, y_train)\n",
    "pred_knn = pipeline_knn.predict(X_test)"
   ]
  },
  {
   "cell_type": "code",
   "execution_count": 73,
   "metadata": {},
   "outputs": [],
   "source": [
    "from sklearn.metrics import f1_score\n",
    "from sklearn.metrics import accuracy_score"
   ]
  },
  {
   "cell_type": "code",
   "execution_count": 74,
   "metadata": {},
   "outputs": [],
   "source": [
    "recall_knn = recall_score(y_test, pred_knn)\n",
    "accuracy_knn = accuracy_score(y_test, pred_knn)\n",
    "\n",
    "auc_knn = roc_auc_score(y_test, pred_knn)"
   ]
  },
  {
   "cell_type": "code",
   "execution_count": 36,
   "metadata": {},
   "outputs": [
    {
     "name": "stdout",
     "output_type": "stream",
     "text": [
      "              precision    recall  f1-score   support\n",
      "\n",
      "           0       0.57      0.36      0.44      3882\n",
      "           1       0.72      0.86      0.78      7472\n",
      "\n",
      "    accuracy                           0.69     11354\n",
      "   macro avg       0.64      0.61      0.61     11354\n",
      "weighted avg       0.67      0.69      0.67     11354\n",
      "\n"
     ]
    }
   ],
   "source": [
    "from sklearn.metrics import classification_report\n",
    "\n",
    "print(classification_report(y_test, pred_knn))"
   ]
  },
  {
   "cell_type": "markdown",
   "metadata": {},
   "source": [
    "<a id=\"dt_th\"><a>\n",
    "## 5.4 Decision Tree with Tuned Hyperparameters "
   ]
  },
  {
   "cell_type": "code",
   "execution_count": 64,
   "metadata": {},
   "outputs": [],
   "source": [
    "pipeline_tree = Pipeline(steps=[\n",
    "    ('preprocessor', preprocessor),\n",
    "    ('svd', TruncatedSVD(n_components_svd)),\n",
    "    ('tree', DecisionTreeClassifier(max_depth=30))\n",
    "])"
   ]
  },
  {
   "cell_type": "code",
   "execution_count": 65,
   "metadata": {},
   "outputs": [],
   "source": [
    "pipeline_tree.fit(X_train, y_train)\n",
    "pred_tree = pipeline_tree.predict(X_test)"
   ]
  },
  {
   "cell_type": "code",
   "execution_count": 66,
   "metadata": {},
   "outputs": [],
   "source": [
    "recall_tree = recall_score(y_test, pred_tree)\n",
    "accuracy_tree = accuracy_score(y_test, pred_tree)\n",
    "\n",
    "auc_tree = roc_auc_score(y_test, pred_tree)"
   ]
  },
  {
   "cell_type": "code",
   "execution_count": 67,
   "metadata": {},
   "outputs": [
    {
     "name": "stdout",
     "output_type": "stream",
     "text": [
      "              precision    recall  f1-score   support\n",
      "\n",
      "           0       0.43      0.45      0.44      3799\n",
      "           1       0.72      0.71      0.72      7674\n",
      "\n",
      "    accuracy                           0.62     11473\n",
      "   macro avg       0.58      0.58      0.58     11473\n",
      "weighted avg       0.63      0.62      0.62     11473\n",
      "\n"
     ]
    }
   ],
   "source": [
    "from sklearn.metrics import classification_report\n",
    "\n",
    "print(classification_report(y_test, pred_tree))"
   ]
  },
  {
   "cell_type": "markdown",
   "metadata": {},
   "source": [
    "<a id=\"svc_th\"><a>\n",
    "## 5.5 SVC with Tuned Hyperparameters"
   ]
  },
  {
   "cell_type": "code",
   "execution_count": 50,
   "metadata": {},
   "outputs": [],
   "source": [
    "pipeline_svc = Pipeline(steps=[\n",
    "    ('preprocessor', preprocessor),\n",
    "    ('svd', TruncatedSVD(n_components_svd)),\n",
    "    ('svc', SVC(class_weight='balanced', C=1))\n",
    "])"
   ]
  },
  {
   "cell_type": "code",
   "execution_count": 51,
   "metadata": {},
   "outputs": [],
   "source": [
    "pipeline_svc.fit(X_train, y_train)\n",
    "pred_svc = pipeline_svc.predict(X_test)"
   ]
  },
  {
   "cell_type": "code",
   "execution_count": 52,
   "metadata": {},
   "outputs": [],
   "source": [
    "recall_svc = recall_score(y_test, pred_svc)\n",
    "accuracy_svc = accuracy_score(y_test, pred_svc)\n",
    "\n",
    "auc_svc = roc_auc_score(y_test, pred_svc)"
   ]
  },
  {
   "cell_type": "code",
   "execution_count": 53,
   "metadata": {},
   "outputs": [
    {
     "name": "stdout",
     "output_type": "stream",
     "text": [
      "              precision    recall  f1-score   support\n",
      "\n",
      "           0       0.50      0.72      0.59      3799\n",
      "           1       0.83      0.65      0.73      7674\n",
      "\n",
      "    accuracy                           0.67     11473\n",
      "   macro avg       0.66      0.69      0.66     11473\n",
      "weighted avg       0.72      0.67      0.68     11473\n",
      "\n"
     ]
    }
   ],
   "source": [
    "from sklearn.metrics import classification_report\n",
    "\n",
    "print(classification_report(y_test, pred_svc))"
   ]
  },
  {
   "cell_type": "markdown",
   "metadata": {},
   "source": [
    "<a id=\"model_eval\"><a>\n",
    "# 6. Model Evaluation"
   ]
  },
  {
   "cell_type": "code",
   "execution_count": 68,
   "metadata": {},
   "outputs": [],
   "source": [
    "logreg = [recall_logreg, accuracy_logreg, auc_logreg]\n",
    "ridge = [recall_ridge, accuracy_ridge, auc_ridge]\n",
    "knn = [recall_knn, accuracy_knn, auc_knn]\n",
    "tree = [recall_tree, accuracy_tree, auc_tree]\n",
    "svc = [recall_svc, accuracy_svc, auc_svc]"
   ]
  },
  {
   "cell_type": "code",
   "execution_count": 69,
   "metadata": {},
   "outputs": [
    {
     "data": {
      "text/html": [
       "<div>\n",
       "<style scoped>\n",
       "    .dataframe tbody tr th:only-of-type {\n",
       "        vertical-align: middle;\n",
       "    }\n",
       "\n",
       "    .dataframe tbody tr th {\n",
       "        vertical-align: top;\n",
       "    }\n",
       "\n",
       "    .dataframe thead th {\n",
       "        text-align: right;\n",
       "    }\n",
       "</style>\n",
       "<table border=\"1\" class=\"dataframe\">\n",
       "  <thead>\n",
       "    <tr style=\"text-align: right;\">\n",
       "      <th></th>\n",
       "      <th>logreg</th>\n",
       "      <th>ridge</th>\n",
       "      <th>knn</th>\n",
       "      <th>tree</th>\n",
       "      <th>svc</th>\n",
       "    </tr>\n",
       "  </thead>\n",
       "  <tbody>\n",
       "    <tr>\n",
       "      <th>recall</th>\n",
       "      <td>0.660021</td>\n",
       "      <td>0.654548</td>\n",
       "      <td>0.853922</td>\n",
       "      <td>0.710190</td>\n",
       "      <td>0.648293</td>\n",
       "    </tr>\n",
       "    <tr>\n",
       "      <th>accuracy</th>\n",
       "      <td>0.671577</td>\n",
       "      <td>0.668265</td>\n",
       "      <td>0.693454</td>\n",
       "      <td>0.623377</td>\n",
       "      <td>0.672884</td>\n",
       "    </tr>\n",
       "    <tr>\n",
       "      <th>auc</th>\n",
       "      <td>0.677470</td>\n",
       "      <td>0.675260</td>\n",
       "      <td>0.611615</td>\n",
       "      <td>0.579101</td>\n",
       "      <td>0.685426</td>\n",
       "    </tr>\n",
       "  </tbody>\n",
       "</table>\n",
       "</div>"
      ],
      "text/plain": [
       "            logreg     ridge       knn      tree       svc\n",
       "recall    0.660021  0.654548  0.853922  0.710190  0.648293\n",
       "accuracy  0.671577  0.668265  0.693454  0.623377  0.672884\n",
       "auc       0.677470  0.675260  0.611615  0.579101  0.685426"
      ]
     },
     "execution_count": 69,
     "metadata": {},
     "output_type": "execute_result"
    }
   ],
   "source": [
    "pd.DataFrame({'logreg': logreg, 'ridge': ridge, 'knn':knn, 'tree': tree, 'svc':svc}, index=['recall', 'accuracy', 'auc'])"
   ]
  },
  {
   "cell_type": "markdown",
   "metadata": {},
   "source": [
    "As we can see, the fine-tuned KNN is the best-performing model. It presents the highest Recall (our target sucess metric), and, at the same time, the highest accuracy.\n",
    "\n",
    "Depending on the context however, it may be interesting to use the DecisionTree Classifier here, as its results are quite good, as well, and, in contrast to other good-performing algorithms like the Neural Network and the SVC, the Decision Tree yields high interpretability. So, although results for other models are slightly better, we would tend to choose the Decision Tree in this business context. Working in a live environment, however, the decision tree may be not the best choice, as one of the problems is oversensitivity and stability, regarding new data points, and irrelevant attributes. This applies, if we wanted to retrain the model in the live setting, as changes near a root node would have a huge impact on the whole model, even though it might not be this relevant. On top of that, Decision Trees easily tend to overfit, which also appears to be the case in our model.\n",
    "\n",
    "SVC, for example has the disadvantage, that it takes very long to compute. Logistic Regression, would need less computational power than SVC, for example, while having the highest AUC of all models, after SVC."
   ]
  },
  {
   "cell_type": "markdown",
   "metadata": {},
   "source": [
    "### Load the current loans to predict on them"
   ]
  },
  {
   "cell_type": "markdown",
   "metadata": {},
   "source": [
    "Now comes the part where our model comes into places for the Solution of our Business Problem. We built a model that does a really good job in predicting the defaulted loans. \n",
    "\n",
    "Now we use this model to predict on the current loans, where whe don't know whether they will default or not, if they will default. To this end, we save and load the model as a pickle and predict on some selected loans whether they default."
   ]
  },
  {
   "cell_type": "code",
   "execution_count": 78,
   "metadata": {},
   "outputs": [],
   "source": [
    "df_production = pd.read_csv(\"csv_current.csv\")"
   ]
  },
  {
   "cell_type": "code",
   "execution_count": 79,
   "metadata": {},
   "outputs": [
    {
     "data": {
      "text/plain": [
       "Current    56576\n",
       "Name: LoanStatus, dtype: int64"
      ]
     },
     "execution_count": 79,
     "metadata": {},
     "output_type": "execute_result"
    }
   ],
   "source": [
    "df_production['LoanStatus'].value_counts()"
   ]
  },
  {
   "cell_type": "markdown",
   "metadata": {},
   "source": [
    "As we can see, our production data set only countains current loans. Let's curate this data so that we can use it to predict its labels, using our trained model."
   ]
  },
  {
   "cell_type": "code",
   "execution_count": 80,
   "metadata": {},
   "outputs": [],
   "source": [
    "X_prod = df_production.drop(['LoanStatus'], axis=1)"
   ]
  },
  {
   "cell_type": "code",
   "execution_count": null,
   "metadata": {},
   "outputs": [],
   "source": [
    "pred_prod = pipeline_knn.predict(X_prod)"
   ]
  },
  {
   "cell_type": "code",
   "execution_count": 119,
   "metadata": {},
   "outputs": [
    {
     "data": {
      "text/plain": [
       "1"
      ]
     },
     "execution_count": 119,
     "metadata": {},
     "output_type": "execute_result"
    }
   ],
   "source": [
    "pred_prod[1]"
   ]
  },
  {
   "cell_type": "markdown",
   "metadata": {},
   "source": [
    "It seems like the record we try to predict has defaulted. Let's have a look at its chracteristics and try to explain the algorithm's prediction."
   ]
  },
  {
   "cell_type": "code",
   "execution_count": 121,
   "metadata": {},
   "outputs": [
    {
     "data": {
      "text/plain": [
       "Term                                                  36\n",
       "BorrowerAPR                                      0.11194\n",
       "BorrowerRate                                       0.105\n",
       "LenderYield                                        0.105\n",
       "EstimatedEffectiveYield                          0.08585\n",
       "EstimatedLoss                                     0.0724\n",
       "ProsperScore                                           6\n",
       "ListingCategory                                    Other\n",
       "BorrowerState                              StateHighRisk\n",
       "Occupation                             OccupationMidRisk\n",
       "EmploymentStatus                               Full-time\n",
       "EmploymentStatusDuration                             126\n",
       "IsBorrowerHomeowner                                    0\n",
       "CurrentlyInGroup                                       0\n",
       "CreditScore                                          800\n",
       "CurrentCreditLines                                     4\n",
       "OpenCreditLines                                        2\n",
       "TotalCreditLinespast7years                            14\n",
       "OpenRevolvingAccounts                                  1\n",
       "OpenRevolvingMonthlyPayment                           25\n",
       "InquiriesLast6Months                                   0\n",
       "TotalInquiries                                         0\n",
       "CurrentDelinquencies                                   0\n",
       "AmountDelinquent                                       0\n",
       "DelinquenciesLast7Years                                0\n",
       "PublicRecordsLast10Years                               0\n",
       "PublicRecordsLast12Months                              0\n",
       "RevolvingCreditBalance                                 0\n",
       "BankcardUtilization                                    0\n",
       "AvailableBankcardCredit                            10000\n",
       "TotalTrades                                           11\n",
       "TradesNeverDelinquent (percentage)                     1\n",
       "TradesOpenedLast6Months                                0\n",
       "DebtToIncomeRatio                                   0.18\n",
       "IncomeRange                               $75,000-99,999\n",
       "IncomeVerifiable                                       1\n",
       "StatedMonthlyIncome                                 7000\n",
       "TotalProsperLoans                                      0\n",
       "TotalProsperPaymentsBilled                             0\n",
       "OnTimeProsperPayments                                  0\n",
       "ProsperPaymentsLessThanOneMonthLate                    0\n",
       "ProsperPaymentsOneMonthPlusLate                        0\n",
       "ProsperPrincipalBorrowed                               0\n",
       "ProsperPrincipalOutstanding                            0\n",
       "LoanOriginalAmount                                 24000\n",
       "MonthlyLoanPayment                                780.06\n",
       "PercentFunded                                          1\n",
       "Recommendations                                        0\n",
       "InvestmentFromFriendsCount                             0\n",
       "InvestmentFromFriendsAmount                            0\n",
       "Investors                                            540\n",
       "Name: 4243, dtype: object"
      ]
     },
     "execution_count": 121,
     "metadata": {},
     "output_type": "execute_result"
    }
   ],
   "source": [
    "X_prod.loc[1]"
   ]
  },
  {
   "cell_type": "markdown",
   "metadata": {},
   "source": [
    "Turns out that this credit was about 24000 dollars, from a high-risk state. The borrower has not commited any crimes in the near past, but does not have a house and has a mid-risk full-time occupation. All in all, it seems plausible that the algorithm predicts a default on this record.\n",
    "\n",
    "As we can see, our algorithm provides some really nice summary and estimation about the Prosper P2P Lending platform."
   ]
  },
  {
   "cell_type": "markdown",
   "metadata": {},
   "source": [
    "**If you wish to go back to the top of the Notebook [click here](#the_top)**"
   ]
  }
 ],
 "metadata": {
  "kernelspec": {
   "display_name": "Python 3",
   "language": "python",
   "name": "python3"
  },
  "language_info": {
   "codemirror_mode": {
    "name": "ipython",
    "version": 3
   },
   "file_extension": ".py",
   "mimetype": "text/x-python",
   "name": "python",
   "nbconvert_exporter": "python",
   "pygments_lexer": "ipython3",
   "version": "3.8.3"
  }
 },
 "nbformat": 4,
 "nbformat_minor": 4
}
